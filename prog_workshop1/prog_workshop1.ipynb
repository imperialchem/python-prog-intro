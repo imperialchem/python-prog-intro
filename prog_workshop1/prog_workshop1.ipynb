{
 "cells": [
  {
   "cell_type": "markdown",
   "metadata": {},
   "source": [
    "# Introduction to programming 1"
   ]
  },
  {
   "cell_type": "markdown",
   "metadata": {},
   "source": [
    "João Pedro Malhado and Clyde Fare, Imperial College London (contact: [chemistry-git@imperial.ac.uk](mailto:chemistry-git@imperial.ac.uk))\n",
    "\n",
    "This notebook is licensed under a [Creative Commons Attribution 4.0 (CC-by) license](http://creativecommons.org/licenses/by/4.0/)"
   ]
  },
  {
   "cell_type": "markdown",
   "metadata": {},
   "source": [
    "This is an interactive tutorial! As you go through it any time you see something that looks like this:\n",
    "\n",
    "    a = \"Hello\"\n",
    "   \n",
    "that's followed by an empty *code cell* (a light grey rectangle with a label like *\"In[ ]\"*), you should type the expression in the code cell, hit Shift+Return to *execute* it, and note the output.\n",
    "\n",
    "No copying and pasting! You'll learn the concepts better if you type them out yourself.\n",
    "\n",
    "Learning how to program is a skill that is developed by experimenting, trying ideas out, thinking about what works and what doesn't, and asking for help. You are strongly encouraged to open new cells in the notebook and trying things out. The computer will not complain!"
   ]
  },
  {
   "cell_type": "markdown",
   "metadata": {},
   "source": [
    "## Overview"
   ]
  },
  {
   "cell_type": "markdown",
   "metadata": {},
   "source": [
    "In this workshop we will distinguish different data types that can be manipulated in computer programs, and what kind of operations can be performed on each type. These will be the building blocks we will be using when constructing our programs. As these workshops develop we will see how to bring things together and construct functionality."
   ]
  },
  {
   "cell_type": "markdown",
   "metadata": {},
   "source": [
    "## Workshop content\n",
    "\n",
    "#### Part 1\n",
    "* [Numbers and their operations](#numbers)\n",
    "* [Strings and their operations](#strings)\n",
    "* [Booleans and their operations](#booleans)\n",
    "* [Setting and working with variables](#variables)\n",
    "* [If statements](#conditionals)\n",
    "* [Exercises](#exercises)\n",
    "\n",
    "#### Part 2\n",
    "* [Lists and their indexing](#lists)\n",
    "* [List operations](#list_ops)\n",
    "* [Contrasting lists and arrays](#listvsarray)\n",
    "* [Tuples. Sets and Dictionaries](#other_collections)"
   ]
  },
  {
   "cell_type": "markdown",
   "metadata": {},
   "source": [
    "## Data types"
   ]
  },
  {
   "cell_type": "markdown",
   "metadata": {},
   "source": [
    "At the centre of all computer programs is manipulating and performing logical operations on data and data structures. Data structures can be very complex and abstract, but we'll start with simple data types which are present in almost all programming languages. We will first identify what they are, and look at what simple operations can be performed on them."
   ]
  },
  {
   "cell_type": "markdown",
   "metadata": {},
   "source": [
    "### Different types of numbers <a id=\"numbers\"></a>"
   ]
  },
  {
   "cell_type": "markdown",
   "metadata": {},
   "source": [
    "In scientific computing, the most important data types are numbers. In a similar way to mathematics where we can distinguish different types of numbers (integers, rationals, reals, complex, etc...), in computing we also have different types of numbers.\n",
    "\n",
    "Is there a difference between 1 and 1.0?\n",
    "\n",
    "In order to enquire the data type of a given object we can use a function (more on what a function is later on) called `type` that tells you what kind of thing -- what data type -- something is. We can check for ourselves that Python considers 1 and 1.0 to be different data types:\n",
    "\n",
    "    type(1)"
   ]
  },
  {
   "cell_type": "code",
   "execution_count": null,
   "metadata": {},
   "outputs": [],
   "source": []
  },
  {
   "cell_type": "markdown",
   "metadata": {},
   "source": [
    "    type(1.0)"
   ]
  },
  {
   "cell_type": "code",
   "execution_count": null,
   "metadata": {},
   "outputs": [],
   "source": []
  },
  {
   "cell_type": "markdown",
   "metadata": {},
   "source": [
    "Python is identifying the two numbers above as an *integer* and a *[floating point number](https://en.wikipedia.org/wiki/Floating_point)*. This difference is related to the way computers represent numbers, and can be important in some operation on some programming languages. Fortunately in Python (version 3 or above) we will not have to worry too much about them.\n",
    "\n",
    "What do you think the types of -1, 0.2, 9753 and 6.626e-34 are?\n",
    "\n",
    "Check your guesses in the cell below."
   ]
  },
  {
   "cell_type": "code",
   "execution_count": null,
   "metadata": {},
   "outputs": [],
   "source": []
  },
  {
   "cell_type": "markdown",
   "metadata": {},
   "source": [
    "The last number of the sequence above is the Plank constant to 4 significant figures: 6.626&times;10<sup>-34</sup>. Therefore we see that we can use the `e` to specify scientific notation.\n",
    "\n",
    "What would be the result of\n",
    "\n",
    "    3e-3"
   ]
  },
  {
   "cell_type": "code",
   "execution_count": null,
   "metadata": {},
   "outputs": [],
   "source": []
  },
  {
   "cell_type": "markdown",
   "metadata": {},
   "source": [
    "If we change the sign\n",
    "\n",
    "    3e3"
   ]
  },
  {
   "cell_type": "code",
   "execution_count": null,
   "metadata": {},
   "outputs": [],
   "source": []
  },
  {
   "cell_type": "markdown",
   "metadata": {},
   "source": [
    "What is the type of *3e3*?\n",
    "\n",
    "Is it the same as the type of 300? Test it out!"
   ]
  },
  {
   "cell_type": "code",
   "execution_count": null,
   "metadata": {},
   "outputs": [],
   "source": []
  },
  {
   "cell_type": "markdown",
   "metadata": {},
   "source": [
    "The last numerical type available in Python is that of complex numbers. Python uses the convention followed in engineering, where the imaginary constant is represented by the letter `j`.\n",
    "\n",
    "    type(1+2j)"
   ]
  },
  {
   "cell_type": "code",
   "execution_count": null,
   "metadata": {},
   "outputs": [],
   "source": []
  },
  {
   "cell_type": "markdown",
   "metadata": {},
   "source": [
    "What will the type of the difference of the complex number 1+2j and the pure imaginary number 2j be?"
   ]
  },
  {
   "cell_type": "code",
   "execution_count": null,
   "metadata": {},
   "outputs": [],
   "source": []
  },
  {
   "cell_type": "markdown",
   "metadata": {},
   "source": [
    "#### Operations with numbers"
   ]
  },
  {
   "cell_type": "markdown",
   "metadata": {},
   "source": [
    "The simplest programming operations you can do with numbers are the same as the ones you would do in a simple calculator. In fact you can use the notebook as a sophisticated calculator. Let's try a few.\n",
    "\n",
    "    1+1"
   ]
  },
  {
   "cell_type": "code",
   "execution_count": null,
   "metadata": {},
   "outputs": [],
   "source": []
  },
  {
   "cell_type": "markdown",
   "metadata": {},
   "source": [
    "Try a couple of expressions in the cell below. Note that you can use brackets to specify the order of the operations.\n",
    "\n",
    "    (5+7)/2"
   ]
  },
  {
   "cell_type": "code",
   "execution_count": null,
   "metadata": {},
   "outputs": [],
   "source": []
  },
  {
   "cell_type": "markdown",
   "metadata": {},
   "source": [
    "Calculate the energy of a photon of violet light with a wavelength of 440 nm (you can remind yourself of the value of the [constants you need](http://physics.nist.gov/cgi-bin/cuu/Category?view=html&Universal.x=70&Universal.y=18))."
   ]
  },
  {
   "cell_type": "code",
   "execution_count": null,
   "metadata": {},
   "outputs": [],
   "source": []
  },
  {
   "cell_type": "markdown",
   "metadata": {},
   "source": [
    "Two \\* can be used for exponentiation. We can try it on a complex number.\n",
    "\n",
    "    (3-1j)**2"
   ]
  },
  {
   "cell_type": "code",
   "execution_count": null,
   "metadata": {},
   "outputs": [],
   "source": []
  },
  {
   "cell_type": "markdown",
   "metadata": {},
   "source": [
    "Or to do a fourth root\n",
    "\n",
    "    16**(1/4)"
   ]
  },
  {
   "cell_type": "code",
   "execution_count": null,
   "metadata": {},
   "outputs": [],
   "source": []
  },
  {
   "cell_type": "markdown",
   "metadata": {},
   "source": [
    "One operation that we learn in primary school, seldom used in our daily lives, but is somewhat surprisingly useful in programming is the modulo operation which calculates the remainder of the division of two numbers. This is done using the `%` symbol\n",
    "\n",
    "    3%2"
   ]
  },
  {
   "cell_type": "code",
   "execution_count": null,
   "metadata": {},
   "outputs": [],
   "source": []
  },
  {
   "cell_type": "markdown",
   "metadata": {},
   "source": [
    "The mathematical operations available in de bare Python language are relatively simple, and common functions like trigonometric functions, exponentials or logarithms are not available by default. These can be made available by loading special modules (to be discussed further later). By loading the [math module](https://docs.python.org/3/library/math.html), many more mathematical functions and constants are made available.\n",
    "\n",
    "    import math\n",
    "    math.sin(3*math.pi/2)"
   ]
  },
  {
   "cell_type": "code",
   "execution_count": null,
   "metadata": {},
   "outputs": [],
   "source": []
  },
  {
   "cell_type": "markdown",
   "metadata": {},
   "source": [
    "The math module is loaded when you use the pylab environment you may already be familiar with. However, we shall delay the discussion of these extensions until later, as we want to focus on the main characteristics of the programming language."
   ]
  },
  {
   "cell_type": "markdown",
   "metadata": {},
   "source": [
    "### Strings of text <a id=\"strings\"></a>"
   ]
  },
  {
   "cell_type": "markdown",
   "metadata": {},
   "source": [
    "Another very important data type we are interested in manipulating is text strings. This is evident when dealing with a text editor, a spell checker, or even how you are typing into this notebook, but even in simple computational tasks text strings will appear often.\n",
    "\n",
    "Text strings appear in quotations. If you type a simple\n",
    "    \n",
    "    Hello\n",
    "\n",
    "below, Python will not understand what you mean and output an error message"
   ]
  },
  {
   "cell_type": "code",
   "execution_count": null,
   "metadata": {},
   "outputs": [],
   "source": []
  },
  {
   "cell_type": "markdown",
   "metadata": {},
   "source": [
    "If you type it in quotes\n",
    "\n",
    "    'Hello'\n",
    "\n",
    "it will tolerate it much better"
   ]
  },
  {
   "cell_type": "code",
   "execution_count": null,
   "metadata": {},
   "outputs": [],
   "source": []
  },
  {
   "cell_type": "markdown",
   "metadata": {},
   "source": [
    "And if you ask what type this quoted thing is, Python will inform you that it is a *string*\n",
    "\n",
    "    type('Hello')"
   ]
  },
  {
   "cell_type": "code",
   "execution_count": null,
   "metadata": {},
   "outputs": [],
   "source": []
  },
  {
   "cell_type": "markdown",
   "metadata": {},
   "source": [
    "Note that the difference in type is related with the use of quotes and not the use of letters\n",
    "\n",
    "    type(1.2)"
   ]
  },
  {
   "cell_type": "code",
   "execution_count": null,
   "metadata": {},
   "outputs": [],
   "source": []
  },
  {
   "cell_type": "markdown",
   "metadata": {},
   "source": [
    "    type('1.2')"
   ]
  },
  {
   "cell_type": "code",
   "execution_count": null,
   "metadata": {},
   "outputs": [],
   "source": []
  },
  {
   "cell_type": "code",
   "execution_count": null,
   "metadata": {},
   "outputs": [],
   "source": [
    "type(\"We can even make 1 single string with spaces, punctuation and numbers such as 0.00729\")"
   ]
  },
  {
   "cell_type": "markdown",
   "metadata": {},
   "source": [
    "Note that in the string above we used double quotes instead of single quotes. Both are indeed equivalent in Python, but we must be consistent.\n",
    "\n",
    "In the English language, because of the use of the apostrophe, single quotes can be problematic\n",
    "\n",
    "    'I wouldn't want to contradict you'"
   ]
  },
  {
   "cell_type": "code",
   "execution_count": null,
   "metadata": {},
   "outputs": [],
   "source": []
  },
  {
   "cell_type": "markdown",
   "metadata": {},
   "source": [
    "In the example above, Python would think the string finishes half way through the second word, and it will not understand what the rest of the command means. The use of double quotes helps in this case.\n",
    "\n",
    "    \"I wouldn't want to contradict you\""
   ]
  },
  {
   "cell_type": "code",
   "execution_count": null,
   "metadata": {},
   "outputs": [],
   "source": []
  },
  {
   "cell_type": "markdown",
   "metadata": {},
   "source": [
    "Or to use triple quotes ('''), which have the advantage of being used for long strings that do not fit in one line. You could put a full novel in triple quotes."
   ]
  },
  {
   "cell_type": "code",
   "execution_count": null,
   "metadata": {},
   "outputs": [],
   "source": [
    "'''This is a multiline string.\n",
    "With some horrible characters that would normally create complications: '{}\"/\n",
    "As you can see, it extends over more than one line'''"
   ]
  },
  {
   "cell_type": "markdown",
   "metadata": {},
   "source": [
    "#### Operations with strings"
   ]
  },
  {
   "cell_type": "markdown",
   "metadata": {},
   "source": [
    "We know what to expect from the operation *1+1* and we tested this operation above. We have also seen that `1` and `\"1\"` are essentially different objects, for a computer in general, and Python in this case. So let us see what the following operation will result into\n",
    "\n",
    "    \"1\"+\"1\""
   ]
  },
  {
   "cell_type": "code",
   "execution_count": null,
   "metadata": {},
   "outputs": [],
   "source": []
  },
  {
   "cell_type": "markdown",
   "metadata": {},
   "source": [
    "Any ideas on what happened, or is the numeracy of the computer is broken beyond repair? It is certainly helpful to query what is the type of the result of the operation we just did.\n",
    "\n",
    "    type(\"1\"+\"1\")"
   ]
  },
  {
   "cell_type": "code",
   "execution_count": null,
   "metadata": {},
   "outputs": [],
   "source": []
  },
  {
   "cell_type": "markdown",
   "metadata": {},
   "source": [
    "Are things a bit more clear? What was achieved with the operation + acting on two strings (\"1\" and \"1\") was a string concatenation, i.e. we joined the two strings together. Let's try to do that again\n",
    "\n",
    "    \"Hello \"+\"mate!\""
   ]
  },
  {
   "cell_type": "code",
   "execution_count": null,
   "metadata": {},
   "outputs": [],
   "source": []
  },
  {
   "cell_type": "markdown",
   "metadata": {},
   "source": [
    "We note here that there is no difference in the symbol we use for summation +, and the symbol we use for string concatenation +. Yet the operations are essentially different, because the objects we are operating on are of different types. Summing (in a mathematical sense) two strings is an ill defined operation, and concatenating two numbers together would not be a very useful thing to do.\n",
    "\n",
    "Similarly, it is not defined the operation minus \"-\" between two strings\n",
    "\n",
    "    \"Remove what?\" - \"what?\""
   ]
  },
  {
   "cell_type": "code",
   "execution_count": null,
   "metadata": {},
   "outputs": [],
   "source": []
  },
  {
   "cell_type": "markdown",
   "metadata": {},
   "source": [
    "Let's now try to outsmart the computer and \"add\" a string and a number\n",
    "\n",
    "    1+\"Hello\""
   ]
  },
  {
   "cell_type": "code",
   "execution_count": null,
   "metadata": {},
   "outputs": [],
   "source": []
  },
  {
   "cell_type": "markdown",
   "metadata": {},
   "source": [
    "Let us look at this error message (a traceback) in some detail.\n",
    "A traceback gives details on what was happening when Python encountered an Exception or Error -- something it doesn't know how to handle.\n",
    "\n",
    "There are many kinds of Python errors, with descriptive names to help us understand what went wrong. In this case we are getting a TypeError: we tried to do some operation on a data type that isn't supported for that data type.\n",
    "\n",
    "Python gives us a helpful error message as part of the TypeError:\n",
    "\n",
    "    unsupported operand type(s) for +: 'int' and 'str'\n",
    "    \n",
    "In order to render the operation meaningful we would need to convert the number into a string. This can be done using the `str` function\n",
    "\n",
    "    str(1)"
   ]
  },
  {
   "cell_type": "code",
   "execution_count": null,
   "metadata": {},
   "outputs": [],
   "source": []
  },
  {
   "cell_type": "markdown",
   "metadata": {},
   "source": [
    "We can confirm that the type of the previous operation is a string. We can now meaningfully concatenate the two objects\n",
    "\n",
    "    str(1)+\"Hello\""
   ]
  },
  {
   "cell_type": "code",
   "execution_count": null,
   "metadata": {},
   "outputs": [],
   "source": []
  },
  {
   "cell_type": "markdown",
   "metadata": {},
   "source": [
    "It is important to understand what is going on. We are transforming the number 1 into the string \"1\" using the function `str`, and concatenating the resulting string \"1\" with the second string \"Hello\" via the operation + between two strings.\n",
    "\n",
    "We can also be interested in the reverse operation, given a string we may want to use it as a number in order to perform some numerical operation. This can be done with the function `float`, that converts a string into a floating point number.\n",
    "\n",
    "    37+float(\"2.998e8\")"
   ]
  },
  {
   "cell_type": "code",
   "execution_count": null,
   "metadata": {},
   "outputs": [],
   "source": []
  },
  {
   "cell_type": "markdown",
   "metadata": {},
   "source": [
    "The ability to convert between data types is very useful and often occurs in solving practical problems.\n",
    "\n",
    "A second operation \\*, this time involving an integer number and a string.\n",
    "\n",
    "    20*\"pancake\"\n",
    "    \n",
    "Before you try the command out, can you see that it would be strange if the result was a number?"
   ]
  },
  {
   "cell_type": "code",
   "execution_count": null,
   "metadata": {},
   "outputs": [],
   "source": []
  },
  {
   "cell_type": "markdown",
   "metadata": {},
   "source": [
    "There you have, 20 pancakes for you.\n",
    "\n",
    "Note that the \\* operation in this case is between an integer and a string. You can see that\n",
    "\n",
    "    \"20\"*\"pancake\"\n",
    "\n",
    "is not as good"
   ]
  },
  {
   "cell_type": "code",
   "execution_count": null,
   "metadata": {},
   "outputs": [],
   "source": []
  },
  {
   "cell_type": "markdown",
   "metadata": {},
   "source": [
    "Using a floating point (real) number will also not work\n",
    "\n",
    "    1.5*\"pancake\""
   ]
  },
  {
   "cell_type": "code",
   "execution_count": null,
   "metadata": {},
   "outputs": [],
   "source": []
  },
  {
   "cell_type": "markdown",
   "metadata": {},
   "source": [
    "Using the two operations with strings above, + and \\*, we can start to be creative: produce the string \"Hehehehehehehehehehehello\" using strings with maximum 3 characters as building blocks"
   ]
  },
  {
   "cell_type": "code",
   "execution_count": null,
   "metadata": {},
   "outputs": [],
   "source": []
  },
  {
   "cell_type": "markdown",
   "metadata": {},
   "source": [
    "There are many operations that can be done with strings, and we will be looking at them as we go along, but one that often comes in handy is the `len` which gives the total number of characters (including spaces) in a string.\n",
    "\n",
    "We can use it to determine the number of characters in the long string above\n",
    "\n",
    "    len(insert your previous expression here)"
   ]
  },
  {
   "cell_type": "code",
   "execution_count": null,
   "metadata": {},
   "outputs": [],
   "source": []
  },
  {
   "cell_type": "markdown",
   "metadata": {},
   "source": [
    "Write down the expression that would give you the difference in string length (character number) between the string above and a normal \"Hello\"."
   ]
  },
  {
   "cell_type": "code",
   "execution_count": null,
   "metadata": {},
   "outputs": [],
   "source": []
  },
  {
   "cell_type": "markdown",
   "metadata": {},
   "source": [
    "### Booleans <a id=\"booleans\"></a>"
   ]
  },
  {
   "cell_type": "markdown",
   "metadata": {},
   "source": [
    "If we want to introduce any logic in a program, or instruct the computer on how to perform instructions according to specific conditions, we need to make use of a less obvious but very important data type: the logical statements of `True` and `False`, called booleans\n",
    "\n",
    "    type(True)"
   ]
  },
  {
   "cell_type": "code",
   "execution_count": null,
   "metadata": {},
   "outputs": [],
   "source": []
  },
  {
   "cell_type": "markdown",
   "metadata": {},
   "source": [
    "Note that they are capitalized\n",
    "\n",
    "    type(true)"
   ]
  },
  {
   "cell_type": "code",
   "execution_count": null,
   "metadata": {},
   "outputs": [],
   "source": []
  },
  {
   "cell_type": "markdown",
   "metadata": {},
   "source": [
    "And are essentially different from a string with the word \"True\"\n",
    "\n",
    "    type(\"True\")"
   ]
  },
  {
   "cell_type": "code",
   "execution_count": null,
   "metadata": {},
   "outputs": [],
   "source": []
  },
  {
   "cell_type": "markdown",
   "metadata": {},
   "source": [
    "Booleans do not often show up explicitly written in programs. However they are present all the time as a result of some operation. For example a comparison of two numbers.\n",
    "\n",
    "    -2 <= 1"
   ]
  },
  {
   "cell_type": "code",
   "execution_count": null,
   "metadata": {},
   "outputs": [],
   "source": []
  },
  {
   "cell_type": "markdown",
   "metadata": {},
   "source": [
    "In the expression above, the computer is testing whether -2 is smaller or equal to 1, and we should be happy to see that it got the order of the numbers right. The examples we use here are obvious, and we use them to illustrate how booleans work. In practice we will be dealing with more realistic cases.\n",
    "\n",
    "We can also test if two numbers are equal\n",
    "\n",
    "    5 == 5"
   ]
  },
  {
   "cell_type": "code",
   "execution_count": null,
   "metadata": {},
   "outputs": [],
   "source": []
  },
  {
   "cell_type": "markdown",
   "metadata": {},
   "source": [
    "Note the two = signs above. This is not a typo, == is used when we want to test for equality. We will see further down that one = sign has a different meaning.\n",
    "\n",
    "Similarly, we can test if two numbers are different\n",
    "\n",
    "    5 != 5"
   ]
  },
  {
   "cell_type": "code",
   "execution_count": null,
   "metadata": {},
   "outputs": [],
   "source": []
  },
  {
   "cell_type": "markdown",
   "metadata": {},
   "source": [
    "Above we are testing if 5 is different from 5. Since they are equal, the result of the test is False.\n",
    "\n",
    "We can also compare two strings\n",
    "\n",
    "    \"introvert\"==\"shy\""
   ]
  },
  {
   "cell_type": "code",
   "execution_count": null,
   "metadata": {},
   "outputs": [],
   "source": []
  },
  {
   "cell_type": "markdown",
   "metadata": {},
   "source": [
    "We could also compare a string to a number, and we can expect these two things to be always different.\n",
    "\n",
    "    \"1.0\"==1.0"
   ]
  },
  {
   "cell_type": "code",
   "execution_count": null,
   "metadata": {},
   "outputs": [],
   "source": []
  },
  {
   "cell_type": "markdown",
   "metadata": {},
   "source": [
    "A common operation could be the comparison of the length of two strings\n",
    "\n",
    "    len(\"introvert\") > len(\"shy\")"
   ]
  },
  {
   "cell_type": "code",
   "execution_count": null,
   "metadata": {},
   "outputs": [],
   "source": []
  },
  {
   "cell_type": "markdown",
   "metadata": {},
   "source": [
    "Let us complicate things slightly. We can use the operation `not` to obtain the complementary of a boolean.\n",
    "\n",
    "    not True"
   ]
  },
  {
   "cell_type": "code",
   "execution_count": null,
   "metadata": {},
   "outputs": [],
   "source": []
  },
  {
   "cell_type": "markdown",
   "metadata": {},
   "source": [
    "If something is not True, then it is False! Note that what we wrote is not a string. It is the operation `not` on the boolean `True`.\n",
    "\n",
    "It should be easy to understand what the result of not False should be (create a new cell and test it, if it is not clear).\n",
    "\n",
    "Used on in these simple cases, the operation `not` does not seem very useful, but it can be used to negate increasingly more complex constructions\n",
    "\n",
    "    not (3 > 6/2)"
   ]
  },
  {
   "cell_type": "code",
   "execution_count": null,
   "metadata": {},
   "outputs": [],
   "source": []
  },
  {
   "cell_type": "markdown",
   "metadata": {},
   "source": [
    "Can you see why we obtained this result?\n",
    "\n",
    "We can check the result of multiple logical operations together, using the logical operators `and` and `or`.\n",
    "\n",
    "If two expressions are joined by an `and`, they both have to be True for the overall expression to be True. \n",
    "\n",
    "If two expressions are joined by an `or`, as long as at least one is True, the overall expression is True.\n",
    "\n",
    "Let us give it a try\n",
    "    \n",
    "    1 > 0 and 1 < 2"
   ]
  },
  {
   "cell_type": "code",
   "execution_count": null,
   "metadata": {},
   "outputs": [],
   "source": []
  },
  {
   "cell_type": "markdown",
   "metadata": {},
   "source": [
    "Although the use of brackets is not necessary, we can think of these compound conditional expressions as written as (1 > 0) and (1 < 2). Since each of the two expressions is True, the overall result is True.\n",
    "\n",
    "We can construct more complex logical statements\n",
    "\n",
    "    (1 > 0 or 1 < 2) and 1 > 10"
   ]
  },
  {
   "cell_type": "code",
   "execution_count": null,
   "metadata": {},
   "outputs": [],
   "source": []
  },
  {
   "cell_type": "markdown",
   "metadata": {},
   "source": [
    "Would the result be different if we change the position of the parenthesis?\n",
    "\n",
    "    1 > 0 or (1 < 2 and 1 > 10)"
   ]
  },
  {
   "cell_type": "code",
   "execution_count": null,
   "metadata": {},
   "outputs": [],
   "source": []
  },
  {
   "cell_type": "markdown",
   "metadata": {},
   "source": [
    "## Variables <a id=\"variables\"></a>"
   ]
  },
  {
   "cell_type": "markdown",
   "metadata": {},
   "source": [
    "We have now covered the three basic data types present in almost all programming languages: numbers (of several kinds), strings and booleans; as well as some simple operations specific to each type.\n",
    "\n",
    "Another language element common to all programming languages are variables. Variables allow us to store the result of specific operations for later use, making it easier to write programs. If, for example, we were writing a program to perform quantum mechanical calculations, it would be very tedious and error prone to explicitly write the Plank constant each time it is used. Instead we can store the value of the Plank constant into a variable.\n",
    "\n",
    "    h=6.626e-34"
   ]
  },
  {
   "cell_type": "code",
   "execution_count": null,
   "metadata": {},
   "outputs": [],
   "source": []
  },
  {
   "cell_type": "markdown",
   "metadata": {},
   "source": [
    "We have just defined a variable \"called\" h, with the value 6.626e-34. Note that we used a single `=` sign in this process. One `=` is an assignment of the variable on the left hand side, the value on the right hand side; two `==` is a operation testing whether the left hand side is equal to the right hand side, and yields a boolean.\n",
    "\n",
    "When using a notebook interface, assigning a variable does not yield an output (see above). The output of a code cell is in general the output of the last operation in that cell, so any cell that ends with a variable assignment will yield no output. This does not mean the operations in the cell have not been performed. Indeed we can see that the value of the Plank constant has been stored in variable h, by just executing the cell with the variable name\n",
    "\n",
    "    h"
   ]
  },
  {
   "cell_type": "code",
   "execution_count": null,
   "metadata": {},
   "outputs": [],
   "source": []
  },
  {
   "cell_type": "markdown",
   "metadata": {},
   "source": [
    "We can now use h in doing operations instead of typing the value explicitly, and we can quickly see the advantage of this if we want to calculate the energy of a red photon with 400&times;10<sup>12</sup> Hz frequency"
   ]
  },
  {
   "cell_type": "code",
   "execution_count": null,
   "metadata": {},
   "outputs": [],
   "source": []
  },
  {
   "cell_type": "markdown",
   "metadata": {},
   "source": [
    "the energy of a yellow photon of 515&times;10<sup>12</sup> Hz"
   ]
  },
  {
   "cell_type": "code",
   "execution_count": null,
   "metadata": {},
   "outputs": [],
   "source": []
  },
  {
   "cell_type": "markdown",
   "metadata": {},
   "source": [
    "and the energy of a blue photon of 640&times;10<sup>12</sup> Hz"
   ]
  },
  {
   "cell_type": "code",
   "execution_count": null,
   "metadata": {},
   "outputs": [],
   "source": []
  },
  {
   "cell_type": "markdown",
   "metadata": {},
   "source": [
    "Defining a variable in programming is similar to defining a variable in mathematics, with some slight differences. We can define variables as numbers, but also as strings, booleans, or more complex structures.\n",
    "\n",
    "    w=\"fantastic\"\n",
    "    w"
   ]
  },
  {
   "cell_type": "code",
   "execution_count": null,
   "metadata": {},
   "outputs": [],
   "source": []
  },
  {
   "cell_type": "markdown",
   "metadata": {},
   "source": [
    "    type(w)"
   ]
  },
  {
   "cell_type": "code",
   "execution_count": null,
   "metadata": {},
   "outputs": [],
   "source": []
  },
  {
   "cell_type": "markdown",
   "metadata": {},
   "source": [
    "    type(h)"
   ]
  },
  {
   "cell_type": "code",
   "execution_count": null,
   "metadata": {},
   "outputs": [],
   "source": []
  },
  {
   "cell_type": "markdown",
   "metadata": {},
   "source": [
    "In mathematics we define a variable and don't necessarily think of the specific values this variable takes. When we define a mathematical function $f(x)=x^2$, we often think of $x$ as a continuous \"thing\", taking all real values at the \"same time\". *In programming, variables always have one and only one well defined value at each point of the program.*\n",
    "\n",
    "The point just made about variable values at each point in the program illustrates well the notion that a program is a sequence of instructions. Let us define the following variables\n",
    "\n",
    "    a=3\n",
    "    b=4\n",
    "    a=b\n",
    "    b=\"done\""
   ]
  },
  {
   "cell_type": "code",
   "execution_count": null,
   "metadata": {},
   "outputs": [],
   "source": []
  },
  {
   "cell_type": "markdown",
   "metadata": {},
   "source": [
    "Since in the above cell all instructions are variable assignments we don't see any output. But what is the value of each variable now? You can test them below. Any surprises?"
   ]
  },
  {
   "cell_type": "code",
   "execution_count": null,
   "metadata": {},
   "outputs": [],
   "source": []
  },
  {
   "cell_type": "markdown",
   "metadata": {},
   "source": [
    "In the examples above we have always used single letter names for variables. We are not restricted to this however, and although variable names can not have spaces or other special characters, it makes life easier for yourself and whoever reads your program, to use more explicit variable names.\n",
    "\n",
    "    magic_number = 1/137\n",
    "    amountOfFlour = 0.75\n",
    "    my_name = \"Genghis\""
   ]
  },
  {
   "cell_type": "code",
   "execution_count": null,
   "metadata": {},
   "outputs": [],
   "source": []
  },
  {
   "cell_type": "markdown",
   "metadata": {},
   "source": [
    "Again we see no output, but we are happy there are no error messages.\n",
    "\n",
    "**Note that variable names are not string objects. The latter are written with quotes, while variables are not.**\n",
    "\n",
    "In order to check the values of the variables all at once we can use the function `print`, which simply prints its content on the screen.\n",
    "\n",
    "    print(magic_number)\n",
    "    print(amountOfFlour)\n",
    "    print(my_name)"
   ]
  },
  {
   "cell_type": "code",
   "execution_count": null,
   "metadata": {},
   "outputs": [],
   "source": []
  },
  {
   "cell_type": "markdown",
   "metadata": {},
   "source": [
    "Unlike all other functions we used so far (`str`, `float`, `type`, etc.), when using the `print` function we note that there is no `[xx]:` numbered tag near the output after the code cell. This is because the `print` function is not returning a result. This means that if we assign a variable to a print statement, that variable will have no content at all.\n",
    "\n",
    "    nothing_here=print(\"No output\")"
   ]
  },
  {
   "cell_type": "code",
   "execution_count": null,
   "metadata": {},
   "outputs": [],
   "source": []
  },
  {
   "cell_type": "markdown",
   "metadata": {},
   "source": [
    "Let us try to look at the variable we defined\n",
    "\n",
    "    nothing_here"
   ]
  },
  {
   "cell_type": "code",
   "execution_count": null,
   "metadata": {},
   "outputs": [],
   "source": []
  },
  {
   "cell_type": "markdown",
   "metadata": {},
   "source": [
    "    type(nothing_here)"
   ]
  },
  {
   "cell_type": "code",
   "execution_count": null,
   "metadata": {},
   "outputs": [],
   "source": []
  },
  {
   "cell_type": "markdown",
   "metadata": {},
   "source": [
    "The only thing that `print` does is printing to the screen, but otherwise has no other effect on the program.\n",
    "\n",
    "The `print` function is surprisingly useful for a command that does so little. It is used to check values of variables without logically changing the code and thus is useful when checking for errors and debugging code.We will see how to make use of it later on.\n",
    "\n",
    "For now, we can have some fun with `print`. Can you make out what the cell below does? Execute it to find out!"
   ]
  },
  {
   "cell_type": "code",
   "execution_count": null,
   "metadata": {},
   "outputs": [],
   "source": [
    "a = \"| (_|   -()-  -()-   -()-   -()- | -()-  -()-  -()-   -()-   ||\\n\"\n",
    "b = \"|_\\\\_|_/___|__|__|__|___|__|___|__|___________________________||\\n\"\n",
    "c = \"|________________________________|__|__()_|__()_|__()__|_____||\\n\"\n",
    "d = \" ___|)_______________________________________________________\\n\"\n",
    "e = \"|_/(|,\\\\____/_|___/_|____/_|______|___________________________||\\n\"\n",
    "f = \"|___/____________________________|___________________________||\\n\"\n",
    "g = \"|   |     | ()  | ()   | ()   |  |                           ||\\n\"\n",
    "h = \"|__\\\\___|.________________________|___\\\\_|___\\\\_|___\\\\_|___|_____||\\n\"\n",
    "i = \"|__/|_______/|____/|_____/|______|___________________________||\\n\"\n",
    "j = \"|_____/__________________________|____\\\\|____\\\\|____\\\\|_________||\\n\"\n",
    "k = \"|____/___________________________|___________________________||\\n\"\n",
    "l = \"|__/___\\\\_._______________________|__|__|__|__|__|__|___|_____||\\n\"\n",
    "\n",
    "print(d + f + i + e + b + g + a + c + l + h + j + k)"
   ]
  },
  {
   "cell_type": "markdown",
   "metadata": {},
   "source": [
    "## Making decisions: if statements <a id=\"conditionals\"></a>"
   ]
  },
  {
   "cell_type": "markdown",
   "metadata": {},
   "source": [
    "Life is made of decisions, and any minimally versatile code will need to execute different instructions depending on some criteria. An example from daily life would be: if it is hot, open the window; if it is not hot, don't! All programming languages provide mechanism to conditionally execute a piece of code. In python it takes the form:\n",
    "\n",
    "    if 6 > 5:\n",
    "        print(\"Six is greater than five!\")"
   ]
  },
  {
   "cell_type": "code",
   "execution_count": null,
   "metadata": {},
   "outputs": [],
   "source": []
  },
  {
   "cell_type": "markdown",
   "metadata": {},
   "source": [
    "That was our first multi-line piece of code, and we need to pay attention to the indentation on the second line (the notebook tries to take care of this for you).\n",
    "Make sure to hit space four times before typing the second line; Python needs them to understand what we want it to do.  \n",
    "\n",
    "So what is going on here? When Python encounters the `if` keyword, it evaluates the expression following the keyword and before the colon. This expression must always evaluate to a boolean type, i.e. evaluate to True or evaluate to False.\n",
    "\n",
    "If that expression is True, Python executes the code in the indented code block under the if line. \n",
    "\n",
    "If that expression is False, Python skips over the code block.\n",
    "\n",
    "    a=\"same\"\n",
    "    if 0 > 1:\n",
    "        a=\"changed\"\n",
    "    a"
   ]
  },
  {
   "cell_type": "code",
   "execution_count": null,
   "metadata": {},
   "outputs": [],
   "source": []
  },
  {
   "cell_type": "markdown",
   "metadata": {},
   "source": [
    "By using one `if` statement in the examples above, we have seen that code is execute if the expression in the `if` statement is True, and if it is False no code is executed. A \"true choice\" will be executing one piece of code if the expression is True, and another piece of code if it is False. This is done using the `else` statement.\n",
    "\n",
    "    sister_age = 15\n",
    "    brother_age = 12\n",
    "    if sister_age > brother_age:\n",
    "        verdict=\"sister is older\"\n",
    "    else:\n",
    "        verdict=\"brother is older\"\n",
    "        \n",
    "    verdict"
   ]
  },
  {
   "cell_type": "code",
   "execution_count": null,
   "metadata": {},
   "outputs": [],
   "source": []
  },
  {
   "cell_type": "markdown",
   "metadata": {},
   "source": [
    "An `else` is not stand alone and is always associated with a particular `if`.\n",
    "\n",
    "If we have more than two cases, we can use the `elif` keyword to check more cases. We can have as many `elif` cases as we want; Python will go down the code checking each `elif` in tern until it finds a True condition or reaches the default `else` block.\n",
    "\n",
    "    sister_age = 15\n",
    "    brother_age = 12\n",
    "    if sister_age > brother_age:\n",
    "        verdict=\"sister is older\"\n",
    "    elif sister_age == brother_age:\n",
    "        verdict=\"sister and brother are the same age\"\n",
    "    else:\n",
    "        verdict=\"brother is older\"\n",
    "        \n",
    "    verdict"
   ]
  },
  {
   "cell_type": "code",
   "execution_count": null,
   "metadata": {},
   "outputs": [],
   "source": []
  },
  {
   "cell_type": "markdown",
   "metadata": {},
   "source": [
    "You don't have to have an else block, if you don't need it. That just means there isn't default code to execute when none of the if or elif conditions are True:\n",
    "\n",
    "    colour = \"orange\"\n",
    "    season = \"\"\n",
    "    if colour == \"green\" or colour == \"red\":\n",
    "        season = \"Christmas colour!\"\n",
    "    elif colour == \"black\" or colour == \"orange\":\n",
    "        season = \"Halloween colour!\"\n",
    "    elif colour == \"pink\":\n",
    "        season = \"Valentine's Day colour!\"\n",
    "    \n",
    "    season"
   ]
  },
  {
   "cell_type": "code",
   "execution_count": null,
   "metadata": {},
   "outputs": [],
   "source": []
  },
  {
   "cell_type": "markdown",
   "metadata": {},
   "source": [
    "Now go back to the cell above and change the first line to read\n",
    "\n",
    "    colour = 'purple'\n",
    "    \n",
    "Execute the cell again.  Notice that, this time, nothing is printed."
   ]
  },
  {
   "cell_type": "markdown",
   "metadata": {},
   "source": [
    "Let us use an `if` statement to conditionally define the value of a variable. First define a variable *x* to have a real number value of your choice.\n",
    "Then build an `if` statement to define a variable *y* that should be the [absolute value](http://mathworld.wolfram.com/AbsoluteValue.html) of *x*. In this exercise we are aiming at a general solution, i.e. one that would work for any value of *x*. Change the value of *x*, take positive and negative values, to check your solution works."
   ]
  },
  {
   "cell_type": "code",
   "execution_count": null,
   "metadata": {},
   "outputs": [],
   "source": []
  },
  {
   "cell_type": "markdown",
   "metadata": {},
   "source": [
    "## Summary"
   ]
  },
  {
   "cell_type": "markdown",
   "metadata": {},
   "source": [
    "We covered the simplest data types found in most programming languages:\n",
    "\n",
    "* Numbers, further divided into integers, floating point numbers (floats) and complex numbers.\n",
    "* Strings, which are sequences of characters.\n",
    "* Booleans, True and False logical variables.\n",
    "\n",
    "Each of these data types has specific operations associated with them, and some operations which involve quantities of different types.\n",
    "\n",
    "Variables provide a way to call objects by a name. A variable can be of any type.\n",
    "\n",
    "The `if` statement provides a way to branch code execution: \"if *something* do this, otherwise do that\". It is a fundamental programming construct, and is present virtually in every program."
   ]
  },
  {
   "cell_type": "markdown",
   "metadata": {},
   "source": [
    "## Exercises <a id=\"exercises\"></a>"
   ]
  },
  {
   "cell_type": "markdown",
   "metadata": {},
   "source": [
    "### Menu specials"
   ]
  },
  {
   "cell_type": "markdown",
   "metadata": {},
   "source": [
    "Given a string *vegetable* and a string *entree*, create string \"Today our specials are: `vegetable` and `entree`\".\n",
    "Try it on the following pairs:\n",
    "\n",
    "vegetable = 'asparagus' ; entree = 'pasta primavera'\n",
    "\n",
    "vegetable = 'artichoke' ; entree = 'steak frites'\n",
    "\n",
    "vegetable = 'kale' ; entree = 'fondue'"
   ]
  },
  {
   "cell_type": "code",
   "execution_count": null,
   "metadata": {},
   "outputs": [],
   "source": []
  },
  {
   "cell_type": "markdown",
   "metadata": {},
   "source": [
    "### Too long for twitter?"
   ]
  },
  {
   "cell_type": "markdown",
   "metadata": {},
   "source": [
    "At the beginning of Twitter, messages could not be more than 140 characters. Given a string *tweet*, print to screen the sentence \"Not for twits\" if the string is longer that 140 characters, and the word \"Soundbite\" if the string is less than or equal to 140 characters.\n",
    "Try it on:\n",
    "\n",
    "tweet='The Analytical Engine weaves algebraic patterns, just as the Jacquard loom weaves flowers and leaves. -- Ada Lovelace, the first programmer'\n",
    "\n",
    "tweet='Four score and seven years ago our fathers brought forth on this continent a new nation, conceived in liberty, and dedicated to the proposition that all men are created equal.'"
   ]
  },
  {
   "cell_type": "code",
   "execution_count": null,
   "metadata": {},
   "outputs": [],
   "source": []
  },
  {
   "cell_type": "markdown",
   "metadata": {},
   "source": [
    "### Greatest out of 3"
   ]
  },
  {
   "cell_type": "markdown",
   "metadata": {},
   "source": [
    "Define 3 variables *x*, *y* and *z* as three numbers of your choice. Write a piece of code that outputs the greatest of the three values. Change the values of *x*, *y* and *z* to check if your solution works."
   ]
  },
  {
   "cell_type": "code",
   "execution_count": null,
   "metadata": {},
   "outputs": [],
   "source": []
  },
  {
   "cell_type": "markdown",
   "metadata": {},
   "source": [
    "# Part 2"
   ]
  },
  {
   "cell_type": "markdown",
   "metadata": {},
   "source": [
    "## Grouping data together"
   ]
  },
  {
   "cell_type": "markdown",
   "metadata": {},
   "source": [
    "In the first part of this session we have looked at three basic data types used in programming: numbers, strings and booleans. All programs can in principle be written using just these data types, but to solve many problems it is often useful to use more sophisticated data types, provided by the programming language (or some extension).\n",
    "\n",
    "A useful and versatile data structure provided by Python are *lists*, and we will be making use of these during this course.\n",
    "\n",
    "*Lists* are similar to *arrays*, which you have seen before, but they are not the same, and we will highlight some differences below."
   ]
  },
  {
   "cell_type": "markdown",
   "metadata": {},
   "source": [
    "### Lists <a id=\"lists\"></a>"
   ]
  },
  {
   "cell_type": "markdown",
   "metadata": {},
   "source": [
    "Lists provide a way of keeping and treating data together. We can create a list by putting its elements in a comma separated list enclosed in square brackets.\n",
    "\n",
    "    days_of_the_week = [\"Sunday\", \"Monday\", \"Tuesday\", \"Wednesday\", \"Thursday\", \"Friday\", \"Saturday\"]"
   ]
  },
  {
   "cell_type": "code",
   "execution_count": null,
   "metadata": {},
   "outputs": [],
   "source": []
  },
  {
   "cell_type": "markdown",
   "metadata": {},
   "source": [
    "We can see that we have created an object with a different type\n",
    "\n",
    "    type(days_of_the_week)"
   ]
  },
  {
   "cell_type": "code",
   "execution_count": null,
   "metadata": {},
   "outputs": [],
   "source": []
  },
  {
   "cell_type": "markdown",
   "metadata": {},
   "source": [
    "We can access the members of a list using the *index* of that item:\n",
    "\n",
    "    days_of_the_week[2]"
   ]
  },
  {
   "cell_type": "code",
   "execution_count": null,
   "metadata": {},
   "outputs": [],
   "source": []
  },
  {
   "cell_type": "markdown",
   "metadata": {},
   "source": [
    "The index is an integer which specifies the element we want. A little confusingly Python uses 0 as the index of the first element of a list. Thus, in this example, the 0 element is \"Sunday\", 1 is \"Monday\", and so on. \n",
    "\n",
    "If we want to count back from the last element of a list we use a negative index. An index of -1 corresponds to the last element of the list, whilst an index of -2 corresponds to the second to last element, -3 the third last, etc. etc..\n",
    "\n",
    "    days_of_the_week[-1]"
   ]
  },
  {
   "cell_type": "code",
   "execution_count": null,
   "metadata": {},
   "outputs": [],
   "source": []
  },
  {
   "cell_type": "markdown",
   "metadata": {},
   "source": [
    "If we try and provide an index that goes beyond the last element of a list Python will throw an IndexError (this is a common error in programming)\n",
    "\n",
    "    days_of_the_week[8]"
   ]
  },
  {
   "cell_type": "code",
   "execution_count": null,
   "metadata": {},
   "outputs": [],
   "source": []
  },
  {
   "cell_type": "markdown",
   "metadata": {},
   "source": [
    "As an exercise, retrieve \"Thursday\" from the list days_of_the_week."
   ]
  },
  {
   "cell_type": "code",
   "execution_count": null,
   "metadata": {},
   "outputs": [],
   "source": []
  },
  {
   "cell_type": "markdown",
   "metadata": {},
   "source": [
    "Besides selecting individual elements, we can also select ranges within the list using two integer numbers separated by a colon ':'. The sublist starts with the element defined by the starting index and include all elements up to **but not including** the element defined by the ending index. This process is called *slicing*\n",
    "\n",
    "    working_days=days_of_the_week[1:6]\n",
    "    working_days"
   ]
  },
  {
   "cell_type": "code",
   "execution_count": null,
   "metadata": {},
   "outputs": [],
   "source": []
  },
  {
   "cell_type": "markdown",
   "metadata": {},
   "source": [
    "This behaviour of indexes can seem strange at first. It is perhaps helpful to think of the indexes when slicing as pointing *between* list elements, to the comma.\n",
    "\n",
    "    [\"Sunday\", \"Monday\", \"Tuesday\", \"Wednesday\", \"Thursday\", \"Friday\", \"Saturday\"]\n",
    "    |        |         |          |            |           |         |           |\n",
    "    0        1         2          3            4           5         6           7\n",
    "    \n",
    "When slicing between 1 and 6, we are including the elements between the commas so numbered. This is a picture that can help you visualize what is going on and it should not be taken too literally."
   ]
  },
  {
   "cell_type": "markdown",
   "metadata": {},
   "source": [
    "If we omit the ending index, the sublist will include all elements until the end of the list\n",
    "\n",
    "    catholic_working_days=days_of_the_week[1:]\n",
    "    catholic_working_days"
   ]
  },
  {
   "cell_type": "code",
   "execution_count": null,
   "metadata": {},
   "outputs": [],
   "source": []
  },
  {
   "cell_type": "markdown",
   "metadata": {},
   "source": [
    "Conversely, if we omit the starting index, the elements will be taken from the beginning of the list.\n",
    "\n",
    "Define a variable jewish_working_days, including all the elements of days_of_the_week, except \"Saturday\"."
   ]
  },
  {
   "cell_type": "code",
   "execution_count": null,
   "metadata": {},
   "outputs": [],
   "source": []
  },
  {
   "cell_type": "markdown",
   "metadata": {},
   "source": [
    "Besides extracting elements of the list, indexes can also be used to modify parts of the list\n",
    "\n",
    "    days_of_the_week[1]=\"Bank holiday\"\n",
    "    days_of_the_week"
   ]
  },
  {
   "cell_type": "code",
   "execution_count": null,
   "metadata": {},
   "outputs": [],
   "source": []
  },
  {
   "cell_type": "markdown",
   "metadata": {},
   "source": [
    "We can also specify a range in doing this\n",
    "\n",
    "    days_of_the_week[1:3]=[\"Hard work\",\"Hard work\"]\n",
    "    days_of_the_week"
   ]
  },
  {
   "cell_type": "code",
   "execution_count": null,
   "metadata": {},
   "outputs": [],
   "source": []
  },
  {
   "cell_type": "markdown",
   "metadata": {},
   "source": [
    "We may specify discontinuous ranges on the list, by indicating a third number after another colon. This is a step index, specifying the increment to the list index.\n",
    "\n",
    "    sport_days=days_of_the_week[1:6:2]\n",
    "    sport_days"
   ]
  },
  {
   "cell_type": "code",
   "execution_count": null,
   "metadata": {},
   "outputs": [],
   "source": []
  },
  {
   "cell_type": "markdown",
   "metadata": {},
   "source": [
    "This slicing mechanism can also be used to insert elements in the list\n",
    "\n",
    "    days_of_the_week[5:5]=[\"Extra day\"]\n",
    "    days_of_the_week"
   ]
  },
  {
   "cell_type": "code",
   "execution_count": null,
   "metadata": {},
   "outputs": [],
   "source": []
  },
  {
   "cell_type": "markdown",
   "metadata": {},
   "source": [
    "Once more we can think of the slicing indexes as pointing between list elements. In the \"space between\" list elements, we are assigning a new element, an insertion into the list."
   ]
  },
  {
   "cell_type": "markdown",
   "metadata": {},
   "source": [
    "Lists are very general and its elements do not have to have the same data type. For example, we can have both strings and number is the same list\n",
    "\n",
    "    [\"Today\", 7, 99.3, \"\", 5**2]"
   ]
  },
  {
   "cell_type": "code",
   "execution_count": null,
   "metadata": {},
   "outputs": [],
   "source": []
  },
  {
   "cell_type": "markdown",
   "metadata": {},
   "source": [
    "List elements can even be other lists. Tables of data usually take this form\n",
    "    \n",
    "    outer_list=[[\"dozens\",\"units\"],[0.5,6],[1,12],[2,24]]"
   ]
  },
  {
   "cell_type": "code",
   "execution_count": null,
   "metadata": {},
   "outputs": [],
   "source": []
  },
  {
   "cell_type": "markdown",
   "metadata": {},
   "source": [
    "Just as we can access the members of a list with an index:\n",
    "\n",
    "    outer_list[2]"
   ]
  },
  {
   "cell_type": "code",
   "execution_count": null,
   "metadata": {},
   "outputs": [],
   "source": []
  },
  {
   "cell_type": "markdown",
   "metadata": {},
   "source": [
    "So too we can access the members of an inner list by an extra index (do not confuse this notation with the list range we used above)\n",
    "\n",
    "    outer_list[2][1]"
   ]
  },
  {
   "cell_type": "code",
   "execution_count": null,
   "metadata": {},
   "outputs": [],
   "source": []
  },
  {
   "cell_type": "markdown",
   "metadata": {},
   "source": [
    "The indices are operating sequentially. We can use round brackets to make this clearer.\n",
    "\n",
    "    (outer_list[2])[1]\n",
    "    \n",
    "The first index, is selecting from outer_list the element index 2, which is the list [1,12]. The second index is selecting from this list the elements index 1."
   ]
  },
  {
   "cell_type": "markdown",
   "metadata": {},
   "source": [
    "If the above looks a bit confusing here's an alternative way of getting the same answer that shows what's happening when this double index is being used:\n",
    "\n",
    "    inner_list = outer_list[2]\n",
    "    inner_element = inner_list[1]\n",
    "    inner_element"
   ]
  },
  {
   "cell_type": "code",
   "execution_count": null,
   "metadata": {},
   "outputs": [],
   "source": []
  },
  {
   "cell_type": "markdown",
   "metadata": {},
   "source": [
    "#### Operations on lists <a id=\"list_ops\"></a>"
   ]
  },
  {
   "cell_type": "markdown",
   "metadata": {},
   "source": [
    "There are many operations involving lists provided by the Python language. We shall not try to be exhaustive, we will start with a few simple operations that will allow us to do most of the work, and introduce useful features as we go along.\n",
    "\n",
    "First we will note a certain analogy between lists and strings: lists are an ordered collection of elements, while strings are ordered collections of characters. Indeed we can use indexing in strings in a similar way we used them with lists\n",
    "\n",
    "    analogy=\"A string is an ordered collection of characters\"\n",
    "    analogy[0]"
   ]
  },
  {
   "cell_type": "code",
   "execution_count": null,
   "metadata": {},
   "outputs": [],
   "source": []
  },
  {
   "cell_type": "markdown",
   "metadata": {},
   "source": [
    "    analogy[15:33]"
   ]
  },
  {
   "cell_type": "code",
   "execution_count": null,
   "metadata": {},
   "outputs": [],
   "source": []
  },
  {
   "cell_type": "markdown",
   "metadata": {},
   "source": [
    "We could thus expect that some of the operations on strings could have a similar behaviour on lists. We can thus use the function `len` to determine the length of a list\n",
    "\n",
    "    len(days_of_the_week)"
   ]
  },
  {
   "cell_type": "code",
   "execution_count": null,
   "metadata": {},
   "outputs": [],
   "source": []
  },
  {
   "cell_type": "markdown",
   "metadata": {},
   "source": [
    "Try to predict the result of the following command\n",
    "\n",
    "    len(days_of_the_week[1:5])"
   ]
  },
  {
   "cell_type": "code",
   "execution_count": null,
   "metadata": {},
   "outputs": [],
   "source": []
  },
  {
   "cell_type": "markdown",
   "metadata": {},
   "source": [
    "We can use the opertor '+' to perform list concatenation, and can be used to build bigger lists\n",
    "\n",
    "    [1,2,3]+[4,5,6]"
   ]
  },
  {
   "cell_type": "code",
   "execution_count": null,
   "metadata": {},
   "outputs": [],
   "source": []
  },
  {
   "cell_type": "markdown",
   "metadata": {},
   "source": [
    "Build the list \\[1,2,3,\"something\",10\\] by combining 3 different lists."
   ]
  },
  {
   "cell_type": "code",
   "execution_count": null,
   "metadata": {},
   "outputs": [],
   "source": []
  },
  {
   "cell_type": "markdown",
   "metadata": {},
   "source": [
    "The operator \\* with an integer yields the repetition of the list elements\n",
    "\n",
    "    5*[0,1]"
   ]
  },
  {
   "cell_type": "code",
   "execution_count": null,
   "metadata": {},
   "outputs": [],
   "source": []
  },
  {
   "cell_type": "markdown",
   "metadata": {},
   "source": [
    "    3*[[1,2]]"
   ]
  },
  {
   "cell_type": "code",
   "execution_count": null,
   "metadata": {},
   "outputs": [],
   "source": []
  },
  {
   "cell_type": "markdown",
   "metadata": {},
   "source": [
    "### Lists vs arrays <a id=\"listvsarray\">"
   ]
  },
  {
   "cell_type": "markdown",
   "metadata": {},
   "source": [
    "As mentioned earlier, there are many similarities between *lists* and *arrays*, but there are also very important differences, some of which may already be apparent from what we have covered so far.\n",
    "\n",
    "Arrays are not a primitive type in Python, but is a data type made available by the NumPy package which is automatically loaded with the Pylab environment. So in order to use arrays we need to load this package in one form or the other\n",
    "\n",
    "    from numpy import array"
   ]
  },
  {
   "cell_type": "code",
   "execution_count": null,
   "metadata": {},
   "outputs": [],
   "source": []
  },
  {
   "cell_type": "markdown",
   "metadata": {},
   "source": [
    "Arrays can be formed from suitable lists by using the function `array`\n",
    "\n",
    "    simple_list=[1,2,3]\n",
    "    simple_array=array(simple_list)\n",
    "    simple_array"
   ]
  },
  {
   "cell_type": "code",
   "execution_count": null,
   "metadata": {},
   "outputs": [],
   "source": []
  },
  {
   "cell_type": "markdown",
   "metadata": {},
   "source": [
    "Any array can be converted back to a list using the function `list`\n",
    "\n",
    "    simple_list2=list(simple_array)\n",
    "    simple_list2==simple_list"
   ]
  },
  {
   "cell_type": "code",
   "execution_count": null,
   "metadata": {},
   "outputs": [],
   "source": []
  },
  {
   "cell_type": "markdown",
   "metadata": {},
   "source": [
    "While any array can be made a list, not all lists can be made arrays. While lists can be collections mixing any type of data, *arrays must contain data all of the same type* (there are a few exceptions to this, but they are used much less often and we will not cover them here). Most useful arrays are formed with numbers, and they are regular in the sense that if we wish to convert a list of lists of length 3, all elements must have length 3\n",
    "\n",
    "    complete_list=[[1,2,3],[4,5,6],[7,8,9],[10,11,12]]\n",
    "    complete_array=array(complete_list)\n",
    "    complete_array"
   ]
  },
  {
   "cell_type": "code",
   "execution_count": null,
   "metadata": {},
   "outputs": [],
   "source": []
  },
  {
   "cell_type": "markdown",
   "metadata": {},
   "source": [
    "In this case we form what we call 2D arrays which allow for convenient and more sophisticated indexing.\n",
    "<img src=\"numpy_indexing.png\" />\n",
    "\n",
    "For example we can select columns of the array (elements on the same position of every sub-array). Before the coma we specify row range, and after the comma the column\n",
    "\n",
    "    complete_array[:,1]"
   ]
  },
  {
   "cell_type": "code",
   "execution_count": null,
   "metadata": {},
   "outputs": [],
   "source": []
  },
  {
   "cell_type": "markdown",
   "metadata": {},
   "source": [
    "Because in an array all the data must be of the same type, can you see what happens when you try to convert a mixed list into an array?\n",
    "\n",
    "    mixed_list=[1/137,3,\"word\",False]\n",
    "    mixed_array=array(mixed_list)\n",
    "    mixed_array"
   ]
  },
  {
   "cell_type": "code",
   "execution_count": null,
   "metadata": {},
   "outputs": [],
   "source": []
  },
  {
   "cell_type": "markdown",
   "metadata": {},
   "source": [
    "If we try to convert a list of lists of different lengths into an array, we will not be able to form a 2D array.\n",
    "\n",
    "    incomplete_list=[[1,2,3],[4,5],[7,8,9],[10,11,12]]\n",
    "    incomplete_array=array(incomplete_list)\n",
    "    incomplete_array"
   ]
  },
  {
   "cell_type": "code",
   "execution_count": null,
   "metadata": {},
   "outputs": [],
   "source": []
  },
  {
   "cell_type": "markdown",
   "metadata": {},
   "source": [
    "In some older versions of python, instead of an error you may get an array of 1D lists, which is not so usefull. To see the difference with respect to a 2D array, we note that the convenient \\[row,column\\] indexing does not work\n",
    "\n",
    "    incomplete_array[:,1]"
   ]
  },
  {
   "cell_type": "code",
   "execution_count": null,
   "metadata": {},
   "outputs": [],
   "source": []
  },
  {
   "cell_type": "markdown",
   "metadata": {},
   "source": [
    "Operations on lists and arrays also behave differently. We have seen that operations with list have some resemblance to operations on strings. For example the '+' operator in lists gives concatenation\n",
    "\n",
    "    [1,2,3]+[2,2,2]"
   ]
  },
  {
   "cell_type": "code",
   "execution_count": null,
   "metadata": {},
   "outputs": [],
   "source": []
  },
  {
   "cell_type": "markdown",
   "metadata": {},
   "source": [
    "Arrays on the other hand behave like vectors. Adding two arrays gives a vector sum, i.e. summing elements in the same position\n",
    "\n",
    "    array([1,2,3])+array([2,2,2])"
   ]
  },
  {
   "cell_type": "code",
   "execution_count": null,
   "metadata": {},
   "outputs": [],
   "source": []
  },
  {
   "cell_type": "markdown",
   "metadata": {},
   "source": [
    "Also, the '\\*' operation in lists gives element repetition\n",
    "\n",
    "    3*[1,2,3]"
   ]
  },
  {
   "cell_type": "code",
   "execution_count": null,
   "metadata": {},
   "outputs": [],
   "source": []
  },
  {
   "cell_type": "markdown",
   "metadata": {},
   "source": [
    "in arrays however it corresponds to vector multiplication by a scalar, each element of the array is multiplied \n",
    "\n",
    "    3*array([1,2,3])"
   ]
  },
  {
   "cell_type": "code",
   "execution_count": null,
   "metadata": {},
   "outputs": [],
   "source": []
  },
  {
   "cell_type": "markdown",
   "metadata": {},
   "source": [
    "Arrays can be extremely useful to work with numerical data. We shall make use of them at later stages of this course, but for the most part we will be making use of the more versatile lists."
   ]
  },
  {
   "cell_type": "markdown",
   "metadata": {},
   "source": [
    "### Extra: Variations of lists <a id=\"other_collections\"></a>"
   ]
  },
  {
   "cell_type": "markdown",
   "metadata": {},
   "source": [
    "Besides lists (and arrays), Python possesses other similar data structures with somewhat different properties that make them more suited for some applications. We shall not be making use of these during the course as lists are more general, but you may find them when looking at code written by others.\n",
    "\n",
    "Below we cover only the simplest properties of these other data structures, but you can [read more](http://docs.python.org/3/tutorial/datastructures.html#tuples-and-sequences) about them elsewhere."
   ]
  },
  {
   "cell_type": "markdown",
   "metadata": {},
   "source": [
    "#### Tuples"
   ]
  },
  {
   "cell_type": "markdown",
   "metadata": {},
   "source": [
    "Tuples are indicated by round brackets\n",
    "\n",
    "    tup=(1,2,3,4,\"last\")"
   ]
  },
  {
   "cell_type": "code",
   "execution_count": null,
   "metadata": {},
   "outputs": [],
   "source": []
  },
  {
   "cell_type": "markdown",
   "metadata": {},
   "source": [
    "We can access its elements like lists\n",
    "\n",
    "    tup[1:3]"
   ]
  },
  {
   "cell_type": "code",
   "execution_count": null,
   "metadata": {},
   "outputs": [],
   "source": []
  },
  {
   "cell_type": "markdown",
   "metadata": {},
   "source": [
    "But we cannot change its content\n",
    "\n",
    "    tup[0]=20"
   ]
  },
  {
   "cell_type": "code",
   "execution_count": null,
   "metadata": {},
   "outputs": [],
   "source": []
  },
  {
   "cell_type": "markdown",
   "metadata": {},
   "source": [
    "#### Sets"
   ]
  },
  {
   "cell_type": "markdown",
   "metadata": {},
   "source": [
    "Sets are indicated by a sequence inside curly brackets (or the `set` function). While lists can have many repeated elements, sets eliminate the redundancy and only keep one element of each\n",
    "\n",
    "    set([1,1,1,2,2,2])"
   ]
  },
  {
   "cell_type": "code",
   "execution_count": null,
   "metadata": {},
   "outputs": [],
   "source": []
  },
  {
   "cell_type": "markdown",
   "metadata": {},
   "source": [
    "If we make a set from a string, the string is \"destroyed\" as we obtain a set with all characters used in the string, but lose the order that potentially gave meaning to the string\n",
    "\n",
    "    set(\"The quick brown fox jumps over the lazy dog!\")"
   ]
  },
  {
   "cell_type": "code",
   "execution_count": null,
   "metadata": {},
   "outputs": [],
   "source": []
  },
  {
   "cell_type": "markdown",
   "metadata": {},
   "source": [
    "#### Dictionaries"
   ]
  },
  {
   "cell_type": "markdown",
   "metadata": {},
   "source": [
    "While list are accessed by a position index, dictionaries are accessed by a label\n",
    "\n",
    "    atomic_number={\"He\":2,\"Ne\":10,\"Ar\":18,\"Kr\":36,\"Xe\":54,\"Rn\":86}"
   ]
  },
  {
   "cell_type": "code",
   "execution_count": null,
   "metadata": {},
   "outputs": [],
   "source": []
  },
  {
   "cell_type": "markdown",
   "metadata": {},
   "source": [
    "    atomic_number[\"Ar\"]"
   ]
  },
  {
   "cell_type": "code",
   "execution_count": null,
   "metadata": {},
   "outputs": [],
   "source": []
  },
  {
   "cell_type": "markdown",
   "metadata": {},
   "source": [
    "## Summary"
   ]
  },
  {
   "cell_type": "markdown",
   "metadata": {},
   "source": [
    "List provide a way to group together and manipulate data. Imagine we were dealing with a dataset with the maximum temperature of every day in the year. It would be unpractical if we had to assign each value to a different variable.\n",
    "\n",
    "Lists can contain data of any type at the same time. We can also have lists of lists.\n",
    "\n",
    "We learned how to access different elements inside a list.\n",
    "\n",
    "Lists are related to the data structure *array*. There are however important differences to be aware of and operations carried on each have a different behaviour.\n",
    "\n",
    "In the next workshop we will be looking at loop, which allow for manipulating lists in a more versatile way."
   ]
  }
 ],
 "metadata": {
  "kernelspec": {
   "display_name": "Python 3 (ipykernel)",
   "language": "python",
   "name": "python3"
  },
  "language_info": {
   "codemirror_mode": {
    "name": "ipython",
    "version": 3
   },
   "file_extension": ".py",
   "mimetype": "text/x-python",
   "name": "python",
   "nbconvert_exporter": "python",
   "pygments_lexer": "ipython3",
   "version": "3.11.2"
  }
 },
 "nbformat": 4,
 "nbformat_minor": 1
}
