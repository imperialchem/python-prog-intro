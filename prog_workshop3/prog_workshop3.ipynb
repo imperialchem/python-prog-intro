{
 "cells": [
  {
   "cell_type": "markdown",
   "metadata": {},
   "source": [
    "# Introduction to programming 3"
   ]
  },
  {
   "cell_type": "markdown",
   "metadata": {},
   "source": [
    "João Pedro Malhado and Clyde Fare, Imperial College London (contact: [chemistry-git@imperial.ac.uk](mailto:chemistry-git@imperial.ac.uk))\n",
    "\n",
    "This notebook is licensed under a [Creative Commons Attribution 4.0 (CC-by) license](http://creativecommons.org/licenses/by/4.0/), except <a href=\"#battleship\">this section</a> which is adapted from <a href=\"https://erlerobotics.gitbooks.io/erle-robotics-learning-python-gitbook-free/content/exercisebattleship/battleship.html\">Erle Robotics S.L. book</a> and is licensed under [Creative Commons Attribution-NonCommercial-ShareAlike 4.0 (CC-by-NC-SA) license](http://creativecommons.org/licenses/by-nc-sa/4.0/)."
   ]
  },
  {
   "cell_type": "markdown",
   "metadata": {},
   "source": [
    "## Overview"
   ]
  },
  {
   "cell_type": "markdown",
   "metadata": {},
   "source": [
    "In the last workshop of this series we finished covering the most important building blocks of the Python programming language, which are indeed common to many other programming languages (with only syntactic variations). We are thus now equipped to tackle all sorts of problems, and the major challenge in programming is to break down a given problem into simple steps using this language we have learned. The best way to achieve proficiency at doing this is by actual practice.\n",
    "\n",
    "In the first part of this workshop we shall not be introducing new language elements, and instead focus on a few examples and problem some common themes that appear in attempting to solve them.\n",
    "\n",
    "We will also look at how to use pieces of code built by others, in the form of modules.\n",
    "\n",
    "In the second part of the workshop, we will see how to ask for user input and how to run python programs outside of the notebook. We will end by programming a very simple computer game. In doing so we will be touching some aspects of program design."
   ]
  },
  {
   "cell_type": "markdown",
   "metadata": {},
   "source": [
    "## Workshop content\n",
    "\n",
    "#### Part 1\n",
    "* [Nested loops](#nested)\n",
    "* [Sorting a list of numbers - exercise](#sort)\n",
    "* [Distilling alcohols - exercise](#distill)\n",
    "\n",
    "#### Part 2\n",
    "* [Importing external code](#import)\n",
    "* [Stand-alone scripts](#scripts)\n",
    "* [Extra: video game](#battleship)"
   ]
  },
  {
   "cell_type": "markdown",
   "metadata": {},
   "source": [
    "## Warm up"
   ]
  },
  {
   "cell_type": "markdown",
   "metadata": {},
   "source": [
    "In the last workshop we learned how loops work, how they introduce repetition in the program, and how by repeating relatively simple operations a complex result can be achieved. We have also seen how to use functions to encapsulate functionality to be reused in different parts of the program.\n",
    "\n",
    "To review both of these notions we will now create a function *reverse_string()* which given a string will return another string with the characters of the argument string in the reverse order. An example of the function result is\n",
    "\n",
    "    reverse_string('Rewarder') -> 'redraweR'\n",
    "    \n",
    "In the cell below we provide an outline of the function (note it doesn't yet work!). You should fill in the gaps to make it functional."
   ]
  },
  {
   "cell_type": "code",
   "execution_count": null,
   "metadata": {},
   "outputs": [],
   "source": [
    "def reverse_string(input_string):\n",
    "    \"\"\"Reverses the order of the characters in input_string.\"\"\"\n",
    "    \n",
    "    rev=''\n",
    "    for\n",
    "        rev=rev+\n",
    "    return rev"
   ]
  },
  {
   "cell_type": "markdown",
   "metadata": {},
   "source": [
    "Note how the function is set up, with *input_string* as an argument of the function, and *rev* as a local variable that will be returned.\n",
    "\n",
    "Also note the common structure of the loop: we define a result variable (here called *rev*), and update it's value in the loop body. In this case, the function output is directly the result variable.\n",
    "\n",
    "The great advantage of defining a function is that we can now apply it to many different cases without rewriting the same code again and again. Let's use it then\n",
    "\n",
    "    reverse_string('0123')"
   ]
  },
  {
   "cell_type": "code",
   "execution_count": null,
   "metadata": {},
   "outputs": [],
   "source": []
  },
  {
   "cell_type": "markdown",
   "metadata": {},
   "source": [
    "    reverse_string('Noon')"
   ]
  },
  {
   "cell_type": "code",
   "execution_count": null,
   "metadata": {},
   "outputs": [],
   "source": []
  },
  {
   "cell_type": "markdown",
   "metadata": {},
   "source": [
    "    reverse_string('stressed')"
   ]
  },
  {
   "cell_type": "code",
   "execution_count": null,
   "metadata": {},
   "outputs": [],
   "source": []
  },
  {
   "cell_type": "markdown",
   "metadata": {},
   "source": [
    "## Nested loops <a id=\"nested\"></a>"
   ]
  },
  {
   "cell_type": "markdown",
   "metadata": {},
   "source": [
    "Data will often take the form of lists of lists (which can be seen as 2D or higher dimension lists), and we might be interested in doing operations on, or using every element of these lists. Such operations often require running more than one loop simultaneously. Let us look at the example case of the following table\n",
    "\n",
    "    table=[[1,1.2,'a'],\n",
    "           [2,2.3,'b'],\n",
    "           [3,3.4,'c']]"
   ]
  },
  {
   "cell_type": "code",
   "execution_count": null,
   "metadata": {},
   "outputs": [],
   "source": []
  },
  {
   "cell_type": "markdown",
   "metadata": {},
   "source": [
    "First, we will print *x&#42;2* for every *x* element of *table* (note that this operation exist for both numbers and strings but with different effects). To do this we need 2 loops:\n",
    "\n",
    "* The first will loop through the elements of *table*: i.e. each of the inner lists.\n",
    "* The second will loop through the elements of the inner lists.\n",
    "\n",
    "It will look like the following:\n",
    "\n",
    "    for row in table:\n",
    "        for x in row:\n",
    "            print(2*x)"
   ]
  },
  {
   "cell_type": "code",
   "execution_count": null,
   "metadata": {},
   "outputs": [],
   "source": []
  },
  {
   "cell_type": "markdown",
   "metadata": {},
   "source": [
    "We are using loop variable names that are indicative of what these variables are in the algorithm. The first for loop is \"picking out\" the rows of the table. For each value of *row*, the second loop is \"picking out\" individual elements of *row*.\n",
    "\n",
    "It is perhaps helpful to introduce some print functions to better understand what the code is doing. It is important to note indentation and which print statement belongs to which loop body to understand when it is being executed\n",
    "\n",
    "    for row in table:\n",
    "        print('row=',row)\n",
    "        for x in row:\n",
    "            print('x=',x)\n",
    "            print(2*x)"
   ]
  },
  {
   "cell_type": "code",
   "execution_count": null,
   "metadata": {},
   "outputs": [],
   "source": []
  },
  {
   "cell_type": "markdown",
   "metadata": {},
   "source": [
    "If it is not clear how the nested loops are working, please ask a demonstrator.\n",
    "\n",
    "We could obtain exactly the same results by using indexes to extract the elements of *table*.\n",
    "\n",
    "    for i in range(3):\n",
    "        for j in range(3):\n",
    "            print(2*table[i][j])"
   ]
  },
  {
   "cell_type": "code",
   "execution_count": null,
   "metadata": {},
   "outputs": [],
   "source": []
  },
  {
   "cell_type": "markdown",
   "metadata": {},
   "source": [
    "Adding some print statements to make things clearer\n",
    "\n",
    "    for i in range(3):\n",
    "        print(\"i=\",i)\n",
    "        for j in range(3):\n",
    "            print(\"j=\",j)\n",
    "            print(\"table[i][j]=\",table[i][j])\n",
    "            print(2*table[i][j])"
   ]
  },
  {
   "cell_type": "code",
   "execution_count": null,
   "metadata": {},
   "outputs": [],
   "source": []
  },
  {
   "cell_type": "markdown",
   "metadata": {},
   "source": [
    "Note that the variables we are looping over are integers running from 0 to 2. In this case we know the shape of the array and can explicitly set the loop bounds with range(3). In cases when we don't know, or don't want to know, the size of the table we are dealing with, we can write a more generic form\n",
    "\n",
    "    for i in range(len(table)):\n",
    "        for j in range(len(table[i])):\n",
    "            print(2*table[i][j])"
   ]
  },
  {
   "cell_type": "code",
   "execution_count": null,
   "metadata": {},
   "outputs": [],
   "source": []
  },
  {
   "cell_type": "markdown",
   "metadata": {},
   "source": [
    "We have just shown that we can loop over list elements or list indexes to obtain the same result. The first way is often simpler and more natural in Python, while the second way is more common in most other programming languages.\n",
    "\n",
    "There are some cases when using indexes can be handy. For example, until now we have been printing the result of the operations following each row \"horizontally\", and moving to the next row \"below\" it. Write some code using indexes that will perform the same operation but following down the columns of *table*."
   ]
  },
  {
   "cell_type": "code",
   "execution_count": null,
   "metadata": {},
   "outputs": [],
   "source": []
  },
  {
   "cell_type": "markdown",
   "metadata": {},
   "source": [
    "So far we have been performing operations on every element of the list and printing the result to the screen. This is not a particularly useful operation, and we often want to make a transformation to the full table and keep it. We can do this by building a new table *table2*\n",
    "\n",
    "    table2=[]\n",
    "    for row in table:\n",
    "        new_row=[]\n",
    "        for x in row:\n",
    "            new_row=new_row+[2*x]\n",
    "        table2=table2+[new_row]\n",
    "        \n",
    "    table2"
   ]
  },
  {
   "cell_type": "code",
   "execution_count": null,
   "metadata": {},
   "outputs": [],
   "source": []
  },
  {
   "cell_type": "markdown",
   "metadata": {},
   "source": [
    "Note that we have defined 2 result variables, *table2* and *new_row*, each updated on a different loop. *table2* is initialized to an empty list and is updated at the end of the body of the first loop. *new_row* is initialized to an empty list **in each cycle** of the first loop, build up inside the second loop, and appended to *table2* after the second loop has finished.\n",
    "\n",
    "This is a common construction when building new tables, it is important that you understand how it works. If it is not completely clear, try adding some print statements to the code above."
   ]
  },
  {
   "cell_type": "markdown",
   "metadata": {},
   "source": [
    "Although very common in 2D lists, nested loops also occur in other contexts.\n",
    "As an example, we will now consider how to generate a list of all the prime numbers below 100. We will approach the problem in the simplest, albeit not very efficient, way: we will loop through every number between 1 and 100 and test if each of them is a prime number. To test if each number is a prime we need a second loop where we test if the number is divisible by any of the numbers smaller than itself.\n",
    "\n",
    "We will provide the outline of the code and let you fill the gaps to make it functional."
   ]
  },
  {
   "cell_type": "code",
   "execution_count": null,
   "metadata": {},
   "outputs": [],
   "source": [
    "primes=[]\n",
    "for test_number in range(1,100):\n",
    "    is_prime=True\n",
    "    for divisor in range():\n",
    "        if % ==0:\n",
    "            is_prime=\n",
    "    if :\n",
    "        primes=\n",
    "        \n",
    "primes"
   ]
  },
  {
   "cell_type": "markdown",
   "metadata": {},
   "source": [
    "Although common, this type of nested loops can get relatively complicated to read and understand. It is often possible to avoid them by defining a function that will do the work being done in the inner loop separately.\n",
    "\n",
    "In the case of the list of prime numbers, we could make our lives easier if we define a function *isprime()* that will return a boolean indicating if the argument is a prime number. Define such a function below.\n",
    "\n",
    "(If you are feeling confident, you can define your function using a while loop instead of a for loop. Note that if a number is divisible, for example by 2, we already know the number is not a prime, so no need to test division by other numbers. This will make the program more efficient as it will do fewer loop steps.)"
   ]
  },
  {
   "cell_type": "code",
   "execution_count": null,
   "metadata": {},
   "outputs": [],
   "source": []
  },
  {
   "cell_type": "markdown",
   "metadata": {},
   "source": [
    "Use the function isprime() to retrieve the list of the prime numbers below 100"
   ]
  },
  {
   "cell_type": "code",
   "execution_count": null,
   "metadata": {},
   "outputs": [],
   "source": []
  },
  {
   "cell_type": "markdown",
   "metadata": {},
   "source": [
    "### Sorting <a id=\"sort\"></a>"
   ]
  },
  {
   "cell_type": "markdown",
   "metadata": {},
   "source": [
    "Sorting the elements of a list is another operation that requires the use of nested loops. This is an important operation in many contexts and although simple to state, there are [many different algorithms](https://en.wikipedia.org/wiki/Sorting_algorithm) to achieve this task (performance can be a concern for big or frequent operations, think about sorting Twitter message by time).\n",
    "\n",
    "Although Python has the built-in function *sorted()* and the list method *.sort()* to do this operation, we will be looking at a variation of the simple Insert Sort algorithm in order to practice more general implementations.\n",
    "\n",
    "We will build a new ordered list by taking elements of the original list and inserting them into the new ordered list in such a way that our new list is always in the right order. Let us try to picture how it would work:\n",
    "\n",
    "*Step 0:* initial state\n",
    "\n",
    "    original_list=[3,1,2]\n",
    "    ordered_list=[]\n",
    "    \n",
    "*Step 1:* we pick the first element of the original_list and place it in the ordered_list\n",
    "\n",
    "                   |\n",
    "    original_list=[3,1,2]\n",
    "    ordered_list=[3]\n",
    "\n",
    "*Step 2:* select the second element of original_list and place it in position 0 of the ordered_list\n",
    "\n",
    "                     |\n",
    "    original_list=[3,1,2]\n",
    "    ordered_list=[1,3]\n",
    "\n",
    "*Step 3:* select the third element of the original_list and place it in position 1 of the ordered_list\n",
    "\n",
    "                      |\n",
    "    original_list[3,1,2]\n",
    "    ordered_list[1,2,3]"
   ]
  },
  {
   "cell_type": "markdown",
   "metadata": {},
   "source": [
    "Perhaps it is already apparent where the nested loop structure is coming from in the algorithm above:\n",
    "\n",
    "* First loop to select the elements of the original list in turn.\n",
    "* Second loop to check in which position to insert the new element in the ordered list.\n",
    "\n",
    "Instead of trying to implement the algorithm all in one piece of code, we will split out the task of inserting elements in the correct position of an ordered list.\n",
    "\n",
    "First, recall from the first workshop how to insert an element in a list in a specific position. (This can also be done with the *.insert()* list method.)\n",
    "\n",
    "    ordered_list=[1,2,4,5,6]\n",
    "    ordered_list[2:2]=[3]"
   ]
  },
  {
   "cell_type": "code",
   "execution_count": null,
   "metadata": {},
   "outputs": [],
   "source": []
  },
  {
   "cell_type": "markdown",
   "metadata": {},
   "source": [
    "Now define the function *insert_in_order(num,ordered_list)* which will receive  as arguments a number and an ordered list, and will return an ordered list where the number passed will be in the correct position. \n",
    "\n",
    "E.g. executing insert_in_order with arguments 3, [1,2,4,5] will return [1,2,3,4,5]"
   ]
  },
  {
   "cell_type": "code",
   "execution_count": null,
   "metadata": {},
   "outputs": [],
   "source": []
  },
  {
   "cell_type": "markdown",
   "metadata": {},
   "source": [
    "Test is your insert_in_order() function\n",
    "\n",
    "    olist=list(range(0,20,3))\n",
    "    insert_in_order(8,olist)    "
   ]
  },
  {
   "cell_type": "code",
   "execution_count": null,
   "metadata": {},
   "outputs": [],
   "source": []
  },
  {
   "cell_type": "markdown",
   "metadata": {},
   "source": [
    "Now define a function *insert_sort(unordered_list)* that receives an unordered list as argument and returns an ordered list with the same elements, that uses the *insert_in_order()* function defined above."
   ]
  },
  {
   "cell_type": "code",
   "execution_count": null,
   "metadata": {},
   "outputs": [],
   "source": []
  },
  {
   "cell_type": "markdown",
   "metadata": {},
   "source": [
    "Does it work?\n",
    "\n",
    "    insert_sort([91, 80, 34, 97,  9, 93, 50, 49,  6, 46])"
   ]
  },
  {
   "cell_type": "code",
   "execution_count": null,
   "metadata": {},
   "outputs": [],
   "source": []
  },
  {
   "cell_type": "markdown",
   "metadata": {},
   "source": [
    "## Distilling alcohols <a id=\"distill\"></a>"
   ]
  },
  {
   "cell_type": "markdown",
   "metadata": {},
   "source": [
    "The list *organic_mix* defined below groups a bunch of strings with chemical fomulae for simple organic molecules"
   ]
  },
  {
   "cell_type": "code",
   "execution_count": null,
   "metadata": {},
   "outputs": [],
   "source": [
    "organic_mix=['CH2CH2','CH3CHCH2','(NH2)2CO','CH2ClCH2Cl','CH2CHCl','C6H6','C6H5CH2CH3','CH3O(CH3)3',\n",
    "             'C6H5CHCH2','CH3OH','CH2O','C6H4(CH3)2','CH3CH2OH','C6H5OH','C6H3(OH)2Br','CH2OHCH2OH',\n",
    "             'CH3CHCH3CHOHCH3','C6H3(OH)2CH2CHNH2CO2H','CH3CHOHCH2CH2OH','C6H8(OH)2','CHCl3,CH3CO2H',\n",
    "             'CH3OCH3','CH3COCH3','CH3CH2CH2CH2OH']"
   ]
  },
  {
   "cell_type": "markdown",
   "metadata": {},
   "source": [
    "The first goal is to create a function *distill()*. This function will take as an argument a list of chemical formulae. It will return a list containing the alcohols present in the original list.\n",
    "\n",
    "(Note that in the chemical formulae above, carboxylic acid groups are written as 'CO2H'. If you want a more challenging problem you can change the chemical formulae of acids in the list to read like 'COOH')\n",
    "\n",
    "Before writing your function, think about:\n",
    "\n",
    "* What type of result should your function return?\n",
    "* How do you \"build\" such result?\n",
    "* Do you need a loop? What should the loop variable be?\n",
    "* What kind of tests (*if* statements) do you need to do while building your result?"
   ]
  },
  {
   "cell_type": "code",
   "execution_count": null,
   "metadata": {},
   "outputs": [],
   "source": []
  },
  {
   "cell_type": "markdown",
   "metadata": {},
   "source": [
    "We will go further in defining a function called *frac_distill()*, that will return a list of two lists. The first of such lists will contain the formulae of simple alcohols, while the second list will contain the diols.\n",
    "\n",
    "One way to approach this problem is:\n",
    "\n",
    "* First, define an auxiliary function *isdiol()* which will identify if a given single formula is a diol.\n",
    "* In *frac_distill()* use the function *distill()* to generate an intermediary list with all alcohols.\n",
    "* In *frac_distill()* use the function *isdiol()* to create two lists for simple alcohols and diols.\n",
    "\n",
    "(In identifying diols we also want to look for the cases written as '(OH)2'. In terms of the implementation of isdiol() you will probably want to use indexes and check 2 characters in the string at a time.)"
   ]
  },
  {
   "cell_type": "code",
   "execution_count": null,
   "metadata": {},
   "outputs": [],
   "source": []
  },
  {
   "cell_type": "markdown",
   "metadata": {},
   "source": [
    "## Summary"
   ]
  },
  {
   "cell_type": "markdown",
   "metadata": {},
   "source": [
    "In the first part of this workshop we have looked at slightly more complex structures in programming, in particular nested loops. We have seen that nested loops often occur in operations with lists and can often be \"decomposed\" by separating the inner loops into an auxiliary function."
   ]
  },
  {
   "cell_type": "markdown",
   "metadata": {},
   "source": [
    "# Part 2"
   ]
  },
  {
   "cell_type": "markdown",
   "metadata": {},
   "source": [
    "## External modules: [Standing on the shoulders of giants](https://en.wikiquote.org/wiki/Isaac_Newton) <a id=\"import\"></a>"
   ]
  },
  {
   "cell_type": "markdown",
   "metadata": {},
   "source": [
    "We have seen that the components of a programming language are rather simple, and that by combining simple operations one achieves more complex results. We can further write functions to perform a given task and use these to build more complex programs. However,\n",
    "it quickly becomes cumbersome if every time we want to use a function that is not part of Python we have to explicitly write it out in our notebook. Luckily there is a way to import pre-existing code in the form of modules.\n",
    "\n",
    "Inside your notebook directory you have a file called <a href=\"fibofact.py\">fibofact.py</a> which contains two functions [*fibonacci()*](https://en.wikipedia.org/wiki/Fibonacci_number) and *factorial()* which we want to use in our current notebook.\n",
    "This is a simple text file with the extension .py, take a look at it in a text editor and note the functions are defined in the same way we have done before. (Do you understand what they are doing?). There are several ways we can import and use them.\n",
    "\n",
    "We can import the whole module and call functions within, via a dot and the name of the function we want:\n",
    "\n",
    "    import fibofact\n",
    "    \n",
    "    fibofact.fibonacci(10)"
   ]
  },
  {
   "cell_type": "code",
   "execution_count": null,
   "metadata": {},
   "outputs": [],
   "source": []
  },
  {
   "cell_type": "markdown",
   "metadata": {},
   "source": [
    "    fibofact.factorial(10)"
   ]
  },
  {
   "cell_type": "code",
   "execution_count": null,
   "metadata": {},
   "outputs": [],
   "source": []
  },
  {
   "cell_type": "markdown",
   "metadata": {},
   "source": [
    "We can do the same thing but choosing to refer to the module by a different (usually shorter) name:    \n",
    "    \n",
    "    import fibofact as ff\n",
    "\n",
    "    ff.fibonacci(10)"
   ]
  },
  {
   "cell_type": "code",
   "execution_count": null,
   "metadata": {},
   "outputs": [],
   "source": []
  },
  {
   "cell_type": "markdown",
   "metadata": {},
   "source": [
    "We can choose to extract one (or more) of the functions directly\n",
    "\n",
    "    from fibofact import factorial\n",
    "\n",
    "    factorial(10)\n"
   ]
  },
  {
   "cell_type": "code",
   "execution_count": null,
   "metadata": {},
   "outputs": [],
   "source": []
  },
  {
   "cell_type": "markdown",
   "metadata": {},
   "source": [
    "Or extract all functions contained in the module\n",
    "\n",
    "    from fibofact import *\n",
    "    \n",
    "    fibonacci(10)"
   ]
  },
  {
   "cell_type": "code",
   "execution_count": null,
   "metadata": {},
   "outputs": [],
   "source": []
  },
  {
   "cell_type": "markdown",
   "metadata": {},
   "source": [
    "The downside of options 3 and particularly 4 is that we might accidentally import a function that has the same name as another variable or function being used. Option 2 is generally considered best practice."
   ]
  },
  {
   "cell_type": "markdown",
   "metadata": {},
   "source": [
    "Even if we can construct our own functions and store them in a module for use at a later time, writing any medium piece of software would appear as a daunting task if we were to build every needed function from scratch using bare *if* statements and *for* loops. Much of the work in programming builds on the work of others, this work is available in the form of function and method libraries implementing useful functionality and that we can import as modules.\n",
    "\n",
    "There are a number of popular scientific modules directly made available by the [Anaconda distribution](http://docs.continuum.io/anaconda/pkg-docs), but as Python is a very popular language there are numerous other modules freely available for us to use.\n",
    "\n",
    "Important packages that you may be using often are [SciPy](http://www.scipy.org) and [NumPy](http://docs.scipy.org/doc/numpy/user/index.html)\n",
    "\n",
    "    import numpy as np\n",
    "    \n",
    "    np.mean([1,2,3])"
   ]
  },
  {
   "cell_type": "code",
   "execution_count": null,
   "metadata": {},
   "outputs": [],
   "source": []
  },
  {
   "cell_type": "markdown",
   "metadata": {},
   "source": [
    "Large modules like scipy often further divide into sub-modules. The sub-module [scipy.constants](https://docs.scipy.org/doc/scipy/reference/constants.html) provides values for useful physical constants. We can import a submodule directly:\n",
    "\n",
    "    import scipy.constants as physcons\n",
    "    physcons.k"
   ]
  },
  {
   "cell_type": "code",
   "execution_count": null,
   "metadata": {},
   "outputs": [],
   "source": []
  },
  {
   "cell_type": "markdown",
   "metadata": {},
   "source": [
    "or import functions (in this case variables) from within the submodule via:\n",
    "    \n",
    "    from scipy.constants import h\n",
    "    h"
   ]
  },
  {
   "cell_type": "code",
   "execution_count": null,
   "metadata": {},
   "outputs": [],
   "source": []
  },
  {
   "cell_type": "markdown",
   "metadata": {},
   "source": [
    "If a function or variable is imported once in a notebook it is accessible from all the cells."
   ]
  },
  {
   "cell_type": "markdown",
   "metadata": {},
   "source": [
    "When writing scripts, we almost always put the import statements at the beginning of the file. That way it is immediately clear what the code we are using depends upon."
   ]
  },
  {
   "cell_type": "markdown",
   "metadata": {},
   "source": [
    "One last example\n",
    "\n",
    "    from IPython.display import YouTubeVideo\n",
    "    YouTubeVideo('T3jIE3b-bhY')"
   ]
  },
  {
   "cell_type": "code",
   "execution_count": null,
   "metadata": {},
   "outputs": [],
   "source": []
  },
  {
   "cell_type": "markdown",
   "metadata": {},
   "source": [
    "## Going beyond the notebook: stand-alone scripts <a id=\"scripts\"></a>"
   ]
  },
  {
   "cell_type": "markdown",
   "metadata": {},
   "source": [
    "In these workshops we have been writing and running all our code within the notebook interface. The notebook is very useful to write and test small pieces of code, or when the output of our code involves plotting. All that we have learned can however be transposed to stand-alone Python programs, which are nothing but code written on text files saved with the extension .py.\n",
    "\n",
    "We will be looking at two examples, but will first do some preliminary work within the notebook."
   ]
  },
  {
   "cell_type": "markdown",
   "metadata": {},
   "source": [
    "### Interactivity: reading user input"
   ]
  },
  {
   "cell_type": "markdown",
   "metadata": {},
   "source": [
    "One important aspect when running a program outside of the notebook, where the user cannot see or change variable values easily, is to provide a way to prompt the user for input. The function *input()* prompts the user and collects input typed on the keyboard. This is the simplest way to create interactive programs.\n",
    "\n",
    "    keys=input(\"I will collect what you type: \")\n",
    "    print(\"What you typed was:\",keys)"
   ]
  },
  {
   "cell_type": "code",
   "execution_count": null,
   "metadata": {},
   "outputs": [],
   "source": []
  },
  {
   "cell_type": "markdown",
   "metadata": {},
   "source": [
    "The first line of code will present the user with a string, and in the notebook a text box where whatever you type on the keyboard until you hit return is \"collected\" (outside of the notebook this text box does not appear, but we will have the chance to check the behaviour later on). Whatever you type is stored as a string in variable *keys* in this case.\n",
    "\n",
    "If we expect numerical input from the user, the string needs to be converted.\n",
    "\n",
    "    number_string=input(\"How many carbon atoms are there in butene?\")\n",
    "    number_number=int(number_string)\n",
    "    if number_number == 4:\n",
    "       print(\"Obviously!\")\n",
    "    else:\n",
    "       print(\"Are you a physicist, or what?!\")"
   ]
  },
  {
   "cell_type": "code",
   "execution_count": null,
   "metadata": {},
   "outputs": [],
   "source": []
  },
  {
   "cell_type": "markdown",
   "metadata": {},
   "source": [
    "### SMILES generator"
   ]
  },
  {
   "cell_type": "markdown",
   "metadata": {},
   "source": [
    "In the exercise above we were working with strings of chemical formulas, but chemical formulas can be ambiguous with respect to chemical structure. [SMILES codes](http://www.daylight.com/dayhtml/doc/theory/theory.smiles.html) is a much less ambiguous way of representing a chemical structure with a single string. The image below shows the structure and respective SMILES codes for two mono-unsaturated fatty acids which differ on the configuration of the double bond.\n",
    "\n",
    "<img src=\"fatty_acids.svg\" />\n",
    "\n",
    "We note that an aliphatic chain can be written as a succession of 'C' characters, with double bonds represented by '='. We can use the forward and backward slash to determine double bond configuration, or we can leave them out if we want to leave it unspecified. No need to include hydrogens. We will not say much more about it, but you can follow the link to [know more about SMILES](http://www.daylight.com/meetings/summerschool98/course/dave/smiles-intro.html).\n",
    "\n",
    "In this section we will be writing a program to write SMILES strings for mono-unsaturated fatty acids, by prompting the user for the total chain length, the position of the double bond, and the orientation of the double bond.\n",
    "\n",
    "While completing this task, we will be need to manipulate the backslash character '\\\\' and there are some details we need to worry about."
   ]
  },
  {
   "cell_type": "markdown",
   "metadata": {},
   "source": [
    "#### A side note on backslashes ('\\\\') \n",
    "\n",
    "The backslash is a special character that has some [specific uses](https://docs.python.org/2.0/ref/strings.html) in Python. In specifying a string with a backslash we can use two backslashes\n",
    "\n",
    "    butene='C/C=C\\\\C'\n",
    "    butene"
   ]
  },
  {
   "cell_type": "code",
   "execution_count": null,
   "metadata": {},
   "outputs": [],
   "source": []
  },
  {
   "cell_type": "markdown",
   "metadata": {},
   "source": [
    "When using a notebook, the string will be displayed in an output cell in Python's \"internal representation\" with '\\\\\\\\'.\n",
    "But if we use print(), Python will \"translate\" from its internal representation and display a single backslash\n",
    "\n",
    "    print(butene)"
   ]
  },
  {
   "cell_type": "code",
   "execution_count": null,
   "metadata": {},
   "outputs": [],
   "source": []
  },
  {
   "cell_type": "markdown",
   "metadata": {},
   "source": [
    "The function we will be defining below should return a string, and its results will be displayed with '\\\\\\\\' on an output cell."
   ]
  },
  {
   "cell_type": "markdown",
   "metadata": {},
   "source": [
    "#### Back to the smiles generator task\n",
    "\n",
    "The core of our program is going to be the function *fatty_gen()*, that receives 3 arguments: chain length, double bond position, and a string specifying orientation. The string can have the values 'Z' or 'E', any other string would count as an unspecified orientation, and should give a result accordingly. The output of the function should be a string with the SMILES code of the fatty acid. Write such a function below"
   ]
  },
  {
   "cell_type": "code",
   "execution_count": null,
   "metadata": {},
   "outputs": [],
   "source": []
  },
  {
   "cell_type": "markdown",
   "metadata": {},
   "source": [
    "In order to test your function, you can insert the resulting string into the program Avogadro and observe the generated structure. (In the program main window select Build > Insert > SMILES...).\n",
    "\n",
    "\n",
    "#### Taking it outside the notebook\n",
    "\n",
    "Once you are convinced your function is doing the right thing, let us move to build our stand-alone program.\n",
    "A Python stand-alone program is a simple text file with the Python code in it and an extension .py. Two simple ways of creating such a text file would be to open up a text editor (on Windows the default text editor is **Notepad**), or use the text editor inbuilt in Jupyter (on the dashboard, on the top right click New > Text File). *It is important to note that in the latter case, although you are using Jupyter, the file you are working on is not a Notebook --- note no cells --- but a simple text file.*\n",
    "\n",
    "Copy the function fatty_gen() you defined above, from the notebook to the text editor, and save the file as fatty_gen.py. We have just created a Python program, but our program at the moment defines the function fatty_gen() but never actually calls it, so if we run the program nothing happens. To complete the script we need to do 3 more things:\n",
    "\n",
    "* Ask the user for input to get the 3 arguments needed to run fatty_gen().\n",
    "* Run fatty_gen() with the input given.\n",
    "* Print the output of fatty_gen().\n",
    "\n",
    "The last step is actually important when running code outside of the notebook. In the notebook the output of a function is returned in an Out[] cell, but when running on the console cells don't exist, and we must write specific code to print to the screen.\n",
    "\n",
    "Once you finished writing your code on the text editor, save the file. Depending on your setup, you may be able to run your program by double-clicking on the file. However, in a default Anaconda installation you may get an alert message stating that the operating system doesn't know how to open the fatty_gen.py file. Select to open the file with the Python interpreter which on Windows should be in C:\\User\\\\&lt;your username&gt;\\Anaconda3\\python.exe.  \n",
    "<a id=\"anaconda-prompt\"></a>If this does not work, open the anaconda-prompt, type \"python\" and with the mouse drag the file with your program from the File Explorer or the Desktop into the terminal window. It should read something like:\n",
    "\n",
    "    python C:\\path\\to\\your\\file\\fatty_gen.py\n",
    "    \n",
    "*Ask a demonstrator for help if you are struggling with this step.*\n",
    "\n",
    "If you manage to run the program by double-clicking on it, you will see the terminal window closing before you have a chance to look at the result of the program. This is because the window is closing as soon as the program ends after the last print() statement. A small trick that we can use to keep the window open, is to add another prompt at the very end of the program, so it waits until the user presses return.\n",
    "\n",
    "    input(\"Press return to close the window.\")\n",
    "\n",
    "When your program contains an error, the terminal window may close immediately, even if you include the input statement at the end, thus preventing you from seeing the error messages and correct the error. In this case, open the anaconda-prompt and <a href=\"#anaconda-prompt\">run the program directly from the open terminal window</a> as described above."
   ]
  },
  {
   "cell_type": "markdown",
   "metadata": {},
   "source": [
    "### Extra: <a id=\"battleship\"></a>Battleship"
   ]
  },
  {
   "cell_type": "markdown",
   "metadata": {},
   "source": [
    "#### The game"
   ]
  },
  {
   "cell_type": "markdown",
   "metadata": {},
   "source": [
    "In this section we will be writing a computer game which is a simplified version of the pencil and paper game [Battleship](https://en.wikipedia.org/wiki/Battleship_(game)). The game will work as follows:\n",
    "\n",
    "* We define a square grid with 5&times;5 elements.\n",
    "* The computer randomly assigns one of the elements of the grid to represent a hidden ship. All other grid elements are the ocean.\n",
    "* The player has 5 shots to sink the ship: guess where the ship is."
   ]
  },
  {
   "cell_type": "markdown",
   "metadata": {},
   "source": [
    "#### What should the program do?"
   ]
  },
  {
   "cell_type": "markdown",
   "metadata": {},
   "source": [
    "We want to write a stand-alone program that:\n",
    "\n",
    "1. Sets up the grid by hiding the ship in one of the grid elements.\n",
    "2. Shows the grid to the player (not showing the hidden ship, but including any shots made).\n",
    "3. Asks the player for a guess position.\n",
    "4. Checks whether the choice is a hit.\n",
    "5. Inform the user of success, or update the grid with the guess shot and go back to point 2."
   ]
  },
  {
   "cell_type": "markdown",
   "metadata": {},
   "source": [
    "#### Designing a solution"
   ]
  },
  {
   "cell_type": "markdown",
   "metadata": {},
   "source": [
    "How to go about solving this problem? This is the design phase, and it is not a bad idea to get a pencil and paper out and draw a diagram of how to break down the different tasks.\n",
    "\n",
    "A second stage of design is to define what data we need to keep track of (what are our global variables) and what operations need to occur during the program that use or change this data (what functions need to be defined, along with what their arguments and output should be). If we go through in detail what the program needs to do as suggested in the section above, the task of determining what functions to define can be greatly simplified.\n",
    "\n",
    "What follows is one suggestion for the program design, you can choose a different route if you wish."
   ]
  },
  {
   "cell_type": "markdown",
   "metadata": {},
   "source": [
    "##### Variables"
   ]
  },
  {
   "cell_type": "markdown",
   "metadata": {},
   "source": [
    "One crucial variable of the program is the position of the hidden ship. This could be defined by the two coordinates on the grid and stored as a 2 element list with the variable name *hidden_ship*.\n",
    "\n",
    "Another piece of information important to keep track of is the shots already made. This will be a list of 2 element lists. This list will start empty, and will be added to during the game. We will call this list *shots*.\n",
    "\n",
    "These are the 2 pieces of information that we need to keep. Note that although we could have decided differently, we are choosing not to keep track of the full grid. We can build this grid with information from *shots* at any one time."
   ]
  },
  {
   "cell_type": "markdown",
   "metadata": {},
   "source": [
    "##### Functions"
   ]
  },
  {
   "cell_type": "markdown",
   "metadata": {},
   "source": [
    "To establish the needed functions, we can follow the outline of the program given above. We will discuss the outline of the functions first, and worry about the details of the implementation in a subsequent section below.\n",
    "\n",
    "We will need a function to generate the random position *hidden_ship* (we will see how to do this below). We will call this function *hide()*. This function does not need any input, and should output a list with the two coordinates.\n",
    "\n",
    "We will need a function that displays the current grid to the player. We can represent the grid as a 5&times;5 list of lists. We will use the string 'O' to represent positions not yet tried, and 'X', for previous shots.\n",
    "Our initial grid will thus look like:\n",
    "\n",
    "    [['O','O','O','O','O'],\n",
    "     ['O','O','O','O','O'],\n",
    "     ['O','O','O','O','O'],\n",
    "     ['O','O','O','O','O'],\n",
    "     ['O','O','O','O','O']]\n",
    "     \n",
    "And when the player aims at the position [1,3] (**we will be using Python list indexing numbering in the game**) it will look like:\n",
    "\n",
    "    [['O','O','O','O','O'],\n",
    "     ['O','O','O','X','O'],\n",
    "     ['O','O','O','O','O'],\n",
    "     ['O','O','O','O','O'],\n",
    "     ['O','O','O','O','O']]\n",
    "     \n",
    "We will separate the task of presenting the grid to the player into two functions. *build_grid()* will construct the 5&times;5 2D list as above, and *print_grid()* will print the grid for the user to see. *build_grid* should receive the *shots* list as input, and output a 5&times;5 2D list.\n",
    "*print_grid()* should receive a 5&times;5 2D list and output nothing (only print to the screen).\n",
    "\n",
    "We will need a function that asks the player for a guess position, and it should do a few checks to see if the choice is valid: within the grid and not repeated. This function should add the guess to the list *shots*. Let us call this function *aim()*. This function should receive as argument the list *shots*, and should output an updated *shots* list.\n",
    "\n",
    "We should have a function *check()* which will check and inform the user if the shot was successful, if there are more tries or if the game is over. This function should receive the lists *hidden_ship* *shots* as arguments, and returns no output (only prints to screen).    "
   ]
  },
  {
   "cell_type": "markdown",
   "metadata": {},
   "source": [
    "##### Putting it together"
   ]
  },
  {
   "cell_type": "markdown",
   "metadata": {},
   "source": [
    "Once we have defined our functions, writing the program is relatively simple.\n",
    "\n",
    "    hidden_ship=hide()\n",
    "    shots=[]\n",
    "    \n",
    "    while hidden_ship not in shots and len(shots)<5:\n",
    "         grid=build_grid(shots)\n",
    "         print_grid(grid)\n",
    "         shots=aim(shots)\n",
    "         check(hidden_ship,shots)\n",
    "         \n",
    "It is normal that there are still unclear aspects about the design of the program, and things should become clearer once we start the implementation phase below. Nevertheless you are welcome to discuss with a demonstrator any aspects of this solution.\n",
    "\n",
    "We will implement the individual functions inside the notebook and make sure they work as expected, and then write them down in a stand-alone program."
   ]
  },
  {
   "cell_type": "markdown",
   "metadata": {},
   "source": [
    "#### Implementation"
   ]
  },
  {
   "cell_type": "markdown",
   "metadata": {},
   "source": [
    "Here we will implement the different functions we have specified above.\n",
    "\n",
    "The function *hide()* needs to output a list with two random integers between 0 and 4. In order to generate integer random numbers we can use the function *randint()* of the numpy module.\n",
    "\n",
    "    from numpy.random import randint\n",
    "    randint(0,100)"
   ]
  },
  {
   "cell_type": "code",
   "execution_count": null,
   "metadata": {},
   "outputs": [],
   "source": []
  },
  {
   "cell_type": "markdown",
   "metadata": {},
   "source": [
    "The code above generates a random integer between 0 and 100. Note that if you run the cell again you will obtain a different number.\n",
    "\n",
    "Define the function *hide()* below."
   ]
  },
  {
   "cell_type": "code",
   "execution_count": null,
   "metadata": {},
   "outputs": [],
   "source": []
  },
  {
   "cell_type": "markdown",
   "metadata": {},
   "source": [
    "We now want to define the function *build_grid()* which receives a list *shots* as an argument, and returns a 5&times;5 2D list of 'O' everywhere and 'X' at the positions *shots*. It is probably easier to first build a grid with 'O' everywhere, and then loop through *shots* and redefine the positions of the grid accordingly."
   ]
  },
  {
   "cell_type": "code",
   "execution_count": null,
   "metadata": {},
   "outputs": [],
   "source": []
  },
  {
   "cell_type": "markdown",
   "metadata": {},
   "source": [
    "The function *print_grid()* should receive as input the output of *build_grid()* and print it in a convenient fashion to the screen. Note that simply using the function print on a list does not convey the idea of a grid.\n",
    "\n",
    "    print([['O','O','O'],['O','O','X'],['O','O','O']])"
   ]
  },
  {
   "cell_type": "code",
   "execution_count": null,
   "metadata": {},
   "outputs": [],
   "source": []
  },
  {
   "cell_type": "markdown",
   "metadata": {},
   "source": [
    "A nicer output would look like:\n",
    "\n",
    "    O O O\n",
    "    O O X\n",
    "    O O O\n",
    "    \n",
    "This could be done by looping through the rows of the grid, building a convenient string and printing it out.\n",
    "\n",
    "Define the function *print_grid()* below."
   ]
  },
  {
   "cell_type": "code",
   "execution_count": null,
   "metadata": {},
   "outputs": [],
   "source": []
  },
  {
   "cell_type": "markdown",
   "metadata": {},
   "source": [
    "The function *aim()*, should receive the list *shots* as input, ask the user for the row and column guess, and output the list *shots* updated. A first implementation can be quite simple.\n",
    "\n",
    "If you are feeling comfortable, you should implements some checks, since the wrong player input can cause errors in the program later on. We should use a loop and keep on prompting the user for input until the guess is sensible, informing them of what the problem with input is at each stage. We should check if the guess is in the range of the grid, and if the entered guess is a repeat and is already in *shots*."
   ]
  },
  {
   "cell_type": "code",
   "execution_count": null,
   "metadata": {},
   "outputs": [],
   "source": []
  },
  {
   "cell_type": "markdown",
   "metadata": {},
   "source": [
    "The function *check()* receives the list *hidden_ship* and *shots*, and it should check whether the last element of *shots* matches *hidden_ship* and inform the player of what happens. It does not have to output anything, just print things to the screen.\n",
    "\n",
    "There are three possibilities: ship sunk; tell the player how many shots are still available (determined by the current length of *shots*); or game over."
   ]
  },
  {
   "cell_type": "code",
   "execution_count": null,
   "metadata": {},
   "outputs": [],
   "source": []
  },
  {
   "cell_type": "markdown",
   "metadata": {},
   "source": [
    "When you are convinced that your functions are doing the right thing, you can copy them to a text file, and the main code structure above. Don't forget to import any module that you are using. Run the program, and have fun!\n",
    "\n",
    "If there is anything in your program that you want to improve, just change your functions accordingly."
   ]
  },
  {
   "cell_type": "markdown",
   "metadata": {},
   "source": [
    "## Summary"
   ]
  },
  {
   "cell_type": "markdown",
   "metadata": {},
   "source": [
    "In building complex programs we can draw upon code written by others importing external modules, thus increasing the functionality available in the standard Python language. \n",
    "\n",
    "We have also seen how to run programs outside of the notebook and how to provide a mechanism for user input.\n",
    "\n",
    "We wrote a program to generate SMILES codes for mono-unsaturated fatty acids, and wrote a simple computer game. In doing so we've illustrated how to use functions to breakdown a more complex problems into simpler parts."
   ]
  }
 ],
 "metadata": {
  "kernelspec": {
   "display_name": "Python 3 (ipykernel)",
   "language": "python",
   "name": "python3"
  },
  "language_info": {
   "codemirror_mode": {
    "name": "ipython",
    "version": 3
   },
   "file_extension": ".py",
   "mimetype": "text/x-python",
   "name": "python",
   "nbconvert_exporter": "python",
   "pygments_lexer": "ipython3",
   "version": "3.11.2"
  }
 },
 "nbformat": 4,
 "nbformat_minor": 1
}
